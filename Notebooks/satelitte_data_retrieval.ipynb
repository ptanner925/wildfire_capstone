{
 "cells": [
  {
   "cell_type": "markdown",
   "metadata": {},
   "source": [
    "## Initial Satelitte Data retrieval.\n",
    "\n",
    "The following dataset was gathered from NASA FIRMs website and encases all fire anomalies throughout the year of 2019. The initial EDA that follows will narrow down the scope of our search to Northern California using the proper longitute and latitude ranges comprising a square area of approximately 70,000 km^2. All anomalies contained in the final dataframe should be over land, and also with a confidence rating of over 75%. Let's razzle dazzle."
   ]
  },
  {
   "cell_type": "code",
   "execution_count": 1,
   "metadata": {},
   "outputs": [],
   "source": [
    "import numpy as np\n",
    "import pandas as pd\n",
    "import matplotlib.pyplot as plt\n",
    "\n",
    "\n",
    "import seaborn as sns\n",
    "#import geopandas as pd\n",
    "#import folium\n",
    "\n",
    "import requests\n",
    "from IPython.display import Image, display\n",
    "\n",
    "import random\n",
    "\n",
    "import urllib.request\n",
    "\n",
    "import warnings\n",
    "warnings.filterwarnings('ignore')\n",
    "\n",
    "#show all columns\n",
    "\n",
    "pd.set_option('display.max_columns', None)"
   ]
  },
  {
   "cell_type": "code",
   "execution_count": 2,
   "metadata": {},
   "outputs": [],
   "source": [
    "modis_df= pd.read_csv('../data/modis_2019_United_States.csv')"
   ]
  },
  {
   "cell_type": "code",
   "execution_count": 3,
   "metadata": {},
   "outputs": [
    {
     "data": {
      "text/plain": [
       "(107213, 15)"
      ]
     },
     "execution_count": 3,
     "metadata": {},
     "output_type": "execute_result"
    }
   ],
   "source": [
    "modis_df.shape"
   ]
  },
  {
   "cell_type": "code",
   "execution_count": 4,
   "metadata": {},
   "outputs": [
    {
     "data": {
      "text/html": [
       "<div>\n",
       "<style scoped>\n",
       "    .dataframe tbody tr th:only-of-type {\n",
       "        vertical-align: middle;\n",
       "    }\n",
       "\n",
       "    .dataframe tbody tr th {\n",
       "        vertical-align: top;\n",
       "    }\n",
       "\n",
       "    .dataframe thead th {\n",
       "        text-align: right;\n",
       "    }\n",
       "</style>\n",
       "<table border=\"1\" class=\"dataframe\">\n",
       "  <thead>\n",
       "    <tr style=\"text-align: right;\">\n",
       "      <th></th>\n",
       "      <th>latitude</th>\n",
       "      <th>longitude</th>\n",
       "      <th>brightness</th>\n",
       "      <th>scan</th>\n",
       "      <th>track</th>\n",
       "      <th>acq_date</th>\n",
       "      <th>acq_time</th>\n",
       "      <th>satellite</th>\n",
       "      <th>instrument</th>\n",
       "      <th>confidence</th>\n",
       "      <th>version</th>\n",
       "      <th>bright_t31</th>\n",
       "      <th>frp</th>\n",
       "      <th>daynight</th>\n",
       "      <th>type</th>\n",
       "    </tr>\n",
       "  </thead>\n",
       "  <tbody>\n",
       "    <tr>\n",
       "      <th>0</th>\n",
       "      <td>36.1292</td>\n",
       "      <td>-114.9293</td>\n",
       "      <td>304.2</td>\n",
       "      <td>1.2</td>\n",
       "      <td>1.1</td>\n",
       "      <td>2019-01-01</td>\n",
       "      <td>950</td>\n",
       "      <td>Aqua</td>\n",
       "      <td>MODIS</td>\n",
       "      <td>59</td>\n",
       "      <td>6.03</td>\n",
       "      <td>271.1</td>\n",
       "      <td>14.1</td>\n",
       "      <td>N</td>\n",
       "      <td>0</td>\n",
       "    </tr>\n",
       "    <tr>\n",
       "      <th>1</th>\n",
       "      <td>30.8237</td>\n",
       "      <td>-83.6847</td>\n",
       "      <td>318.0</td>\n",
       "      <td>1.8</td>\n",
       "      <td>1.3</td>\n",
       "      <td>2019-01-01</td>\n",
       "      <td>1600</td>\n",
       "      <td>Terra</td>\n",
       "      <td>MODIS</td>\n",
       "      <td>76</td>\n",
       "      <td>6.03</td>\n",
       "      <td>293.9</td>\n",
       "      <td>30.9</td>\n",
       "      <td>D</td>\n",
       "      <td>0</td>\n",
       "    </tr>\n",
       "    <tr>\n",
       "      <th>2</th>\n",
       "      <td>30.8298</td>\n",
       "      <td>-83.6779</td>\n",
       "      <td>310.6</td>\n",
       "      <td>1.8</td>\n",
       "      <td>1.3</td>\n",
       "      <td>2019-01-01</td>\n",
       "      <td>1600</td>\n",
       "      <td>Terra</td>\n",
       "      <td>MODIS</td>\n",
       "      <td>54</td>\n",
       "      <td>6.03</td>\n",
       "      <td>293.9</td>\n",
       "      <td>15.7</td>\n",
       "      <td>D</td>\n",
       "      <td>0</td>\n",
       "    </tr>\n",
       "    <tr>\n",
       "      <th>3</th>\n",
       "      <td>26.7338</td>\n",
       "      <td>-81.0102</td>\n",
       "      <td>327.6</td>\n",
       "      <td>1.1</td>\n",
       "      <td>1.1</td>\n",
       "      <td>2019-01-01</td>\n",
       "      <td>1601</td>\n",
       "      <td>Terra</td>\n",
       "      <td>MODIS</td>\n",
       "      <td>83</td>\n",
       "      <td>6.03</td>\n",
       "      <td>297.4</td>\n",
       "      <td>26.2</td>\n",
       "      <td>D</td>\n",
       "      <td>0</td>\n",
       "    </tr>\n",
       "    <tr>\n",
       "      <th>4</th>\n",
       "      <td>26.7258</td>\n",
       "      <td>-81.0230</td>\n",
       "      <td>313.3</td>\n",
       "      <td>1.1</td>\n",
       "      <td>1.1</td>\n",
       "      <td>2019-01-01</td>\n",
       "      <td>1601</td>\n",
       "      <td>Terra</td>\n",
       "      <td>MODIS</td>\n",
       "      <td>67</td>\n",
       "      <td>6.03</td>\n",
       "      <td>294.4</td>\n",
       "      <td>9.2</td>\n",
       "      <td>D</td>\n",
       "      <td>0</td>\n",
       "    </tr>\n",
       "  </tbody>\n",
       "</table>\n",
       "</div>"
      ],
      "text/plain": [
       "   latitude  longitude  brightness  scan  track    acq_date  acq_time  \\\n",
       "0   36.1292  -114.9293       304.2   1.2    1.1  2019-01-01       950   \n",
       "1   30.8237   -83.6847       318.0   1.8    1.3  2019-01-01      1600   \n",
       "2   30.8298   -83.6779       310.6   1.8    1.3  2019-01-01      1600   \n",
       "3   26.7338   -81.0102       327.6   1.1    1.1  2019-01-01      1601   \n",
       "4   26.7258   -81.0230       313.3   1.1    1.1  2019-01-01      1601   \n",
       "\n",
       "  satellite instrument  confidence  version  bright_t31   frp daynight  type  \n",
       "0      Aqua      MODIS          59     6.03       271.1  14.1        N     0  \n",
       "1     Terra      MODIS          76     6.03       293.9  30.9        D     0  \n",
       "2     Terra      MODIS          54     6.03       293.9  15.7        D     0  \n",
       "3     Terra      MODIS          83     6.03       297.4  26.2        D     0  \n",
       "4     Terra      MODIS          67     6.03       294.4   9.2        D     0  "
      ]
     },
     "execution_count": 4,
     "metadata": {},
     "output_type": "execute_result"
    }
   ],
   "source": [
    "modis_df.head()"
   ]
  },
  {
   "cell_type": "code",
   "execution_count": 5,
   "metadata": {},
   "outputs": [
    {
     "name": "stdout",
     "output_type": "stream",
     "text": [
      "<class 'pandas.core.frame.DataFrame'>\n",
      "RangeIndex: 107213 entries, 0 to 107212\n",
      "Data columns (total 15 columns):\n",
      " #   Column      Non-Null Count   Dtype  \n",
      "---  ------      --------------   -----  \n",
      " 0   latitude    107213 non-null  float64\n",
      " 1   longitude   107213 non-null  float64\n",
      " 2   brightness  107213 non-null  float64\n",
      " 3   scan        107213 non-null  float64\n",
      " 4   track       107213 non-null  float64\n",
      " 5   acq_date    107213 non-null  object \n",
      " 6   acq_time    107213 non-null  int64  \n",
      " 7   satellite   107213 non-null  object \n",
      " 8   instrument  107213 non-null  object \n",
      " 9   confidence  107213 non-null  int64  \n",
      " 10  version     107213 non-null  float64\n",
      " 11  bright_t31  107213 non-null  float64\n",
      " 12  frp         107213 non-null  float64\n",
      " 13  daynight    107213 non-null  object \n",
      " 14  type        107213 non-null  int64  \n",
      "dtypes: float64(8), int64(3), object(4)\n",
      "memory usage: 12.3+ MB\n"
     ]
    }
   ],
   "source": [
    "modis_df.info()"
   ]
  },
  {
   "cell_type": "code",
   "execution_count": 6,
   "metadata": {},
   "outputs": [
    {
     "data": {
      "text/plain": [
       "0"
      ]
     },
     "execution_count": 6,
     "metadata": {},
     "output_type": "execute_result"
    }
   ],
   "source": [
    "modis_df.isna().sum().sum()"
   ]
  },
  {
   "cell_type": "code",
   "execution_count": 7,
   "metadata": {},
   "outputs": [],
   "source": [
    "new_df= modis_df[(modis_df['latitude'] >= 38.0881) & (modis_df['latitude'] <= 40.8336)]"
   ]
  },
  {
   "cell_type": "code",
   "execution_count": 8,
   "metadata": {},
   "outputs": [
    {
     "data": {
      "text/plain": [
       "(8541, 15)"
      ]
     },
     "execution_count": 8,
     "metadata": {},
     "output_type": "execute_result"
    }
   ],
   "source": [
    "new_df.shape"
   ]
  },
  {
   "cell_type": "code",
   "execution_count": 9,
   "metadata": {},
   "outputs": [],
   "source": [
    "df_2= new_df[(new_df['longitude'] >= -123.1208) & (new_df['longitude'] <= -120.2933)]"
   ]
  },
  {
   "cell_type": "code",
   "execution_count": 10,
   "metadata": {},
   "outputs": [
    {
     "data": {
      "text/plain": [
       "(2730, 15)"
      ]
     },
     "execution_count": 10,
     "metadata": {},
     "output_type": "execute_result"
    }
   ],
   "source": [
    "df_2.shape"
   ]
  },
  {
   "cell_type": "code",
   "execution_count": 11,
   "metadata": {},
   "outputs": [],
   "source": [
    "df_3 = df_2[(df_2.confidence >= 70)]"
   ]
  },
  {
   "cell_type": "code",
   "execution_count": 12,
   "metadata": {},
   "outputs": [
    {
     "data": {
      "text/plain": [
       "(1537, 15)"
      ]
     },
     "execution_count": 12,
     "metadata": {},
     "output_type": "execute_result"
    }
   ],
   "source": [
    "df_3.shape"
   ]
  },
  {
   "cell_type": "markdown",
   "metadata": {},
   "source": [
    "### "
   ]
  },
  {
   "cell_type": "code",
   "execution_count": 13,
   "metadata": {},
   "outputs": [],
   "source": [
    "mod_2019_final = df_3"
   ]
  },
  {
   "cell_type": "code",
   "execution_count": 14,
   "metadata": {},
   "outputs": [
    {
     "data": {
      "text/plain": [
       "(1537, 15)"
      ]
     },
     "execution_count": 14,
     "metadata": {},
     "output_type": "execute_result"
    }
   ],
   "source": [
    "mod_2019_final.shape"
   ]
  },
  {
   "cell_type": "code",
   "execution_count": 15,
   "metadata": {},
   "outputs": [],
   "source": [
    " ### after brief research this last step is not necessary. Terra and Aqua satellite do not measure between fires on\n",
    "#land or on water, but rather refer two different satellites that occupy two different orbitals around the earth."
   ]
  },
  {
   "cell_type": "markdown",
   "metadata": {},
   "source": [
    "At this point after doing my transformations i feel like i may need more data so lets import from 2015,2016,2017 and 2018 as well. considering we have 1537 isntances, this will not be enough images for our eventual CNN. But lets work our way back, from 2018"
   ]
  },
  {
   "cell_type": "code",
   "execution_count": 16,
   "metadata": {},
   "outputs": [],
   "source": [
    "mod_2018 = pd.read_csv('../data/modis_2018_United_States.csv')"
   ]
  },
  {
   "cell_type": "code",
   "execution_count": 17,
   "metadata": {},
   "outputs": [],
   "source": [
    "mod_2018_2= mod_2018[(mod_2018['latitude'] >= 38.0881) & (mod_2018['latitude'] <= 40.8336)]"
   ]
  },
  {
   "cell_type": "code",
   "execution_count": 18,
   "metadata": {},
   "outputs": [],
   "source": [
    "mod_2018_3= mod_2018_2[(mod_2018_2['longitude'] >= -123.1208) & (mod_2018_2['longitude'] <= -120.2933)]"
   ]
  },
  {
   "cell_type": "code",
   "execution_count": 19,
   "metadata": {},
   "outputs": [],
   "source": [
    "mod_2018_final = mod_2018_3[(mod_2018_3.confidence >= 70)]"
   ]
  },
  {
   "cell_type": "code",
   "execution_count": 20,
   "metadata": {},
   "outputs": [
    {
     "data": {
      "text/plain": [
       "(6492, 15)"
      ]
     },
     "execution_count": 20,
     "metadata": {},
     "output_type": "execute_result"
    }
   ],
   "source": [
    "mod_2018_final.shape"
   ]
  },
  {
   "cell_type": "code",
   "execution_count": 21,
   "metadata": {},
   "outputs": [],
   "source": [
    "mod_2017 = pd.read_csv('../data/modis_2017_United_States.csv')"
   ]
  },
  {
   "cell_type": "code",
   "execution_count": 22,
   "metadata": {},
   "outputs": [],
   "source": [
    "mod_2017_2= mod_2017[(mod_2017['latitude'] >= 38.0881) & (mod_2017['latitude'] <= 40.8336)]"
   ]
  },
  {
   "cell_type": "code",
   "execution_count": 23,
   "metadata": {},
   "outputs": [],
   "source": [
    "mod_2017_3= mod_2017_2[(mod_2017_2['longitude'] >= -123.1208) & (mod_2017_2['longitude'] <= -120.2933)]"
   ]
  },
  {
   "cell_type": "code",
   "execution_count": 24,
   "metadata": {},
   "outputs": [],
   "source": [
    "mod_2017_final = mod_2017_3[(mod_2017_3.confidence >= 70)]"
   ]
  },
  {
   "cell_type": "code",
   "execution_count": 25,
   "metadata": {},
   "outputs": [
    {
     "data": {
      "text/plain": [
       "(1807, 15)"
      ]
     },
     "execution_count": 25,
     "metadata": {},
     "output_type": "execute_result"
    }
   ],
   "source": [
    "mod_2017_final.shape"
   ]
  },
  {
   "cell_type": "code",
   "execution_count": 26,
   "metadata": {},
   "outputs": [
    {
     "data": {
      "text/plain": [
       "10412"
      ]
     },
     "execution_count": 26,
     "metadata": {},
     "output_type": "execute_result"
    }
   ],
   "source": [
    "1537 + 6492 + 1807 + 576"
   ]
  },
  {
   "cell_type": "code",
   "execution_count": 27,
   "metadata": {},
   "outputs": [],
   "source": [
    "mod_2016 = pd.read_csv('../data/modis_2016_United_States.csv')"
   ]
  },
  {
   "cell_type": "code",
   "execution_count": 28,
   "metadata": {},
   "outputs": [],
   "source": [
    "mod_2016_2 =mod_2016[(mod_2016['latitude'] >= 38.0881) & (mod_2016['latitude'] <= 40.8336)]"
   ]
  },
  {
   "cell_type": "code",
   "execution_count": 29,
   "metadata": {},
   "outputs": [],
   "source": [
    "mod_2016_3= mod_2016_2[(mod_2016_2['longitude'] >= -123.1208) & (mod_2016_2['longitude'] <= -120.2933)]"
   ]
  },
  {
   "cell_type": "code",
   "execution_count": 30,
   "metadata": {},
   "outputs": [],
   "source": [
    "mod_2016_final = mod_2016_3[(mod_2016_3.confidence >= 70)] "
   ]
  },
  {
   "cell_type": "code",
   "execution_count": 31,
   "metadata": {},
   "outputs": [
    {
     "data": {
      "text/plain": [
       "(576, 15)"
      ]
     },
     "execution_count": 31,
     "metadata": {},
     "output_type": "execute_result"
    }
   ],
   "source": [
    "mod_2016_final.shape"
   ]
  },
  {
   "cell_type": "code",
   "execution_count": 32,
   "metadata": {},
   "outputs": [],
   "source": [
    "frames= [mod_2016_final, mod_2017_final, mod_2018_final, mod_2019_final]\n",
    "final_df= pd.concat(frames)"
   ]
  },
  {
   "cell_type": "code",
   "execution_count": 33,
   "metadata": {},
   "outputs": [
    {
     "data": {
      "text/plain": [
       "(10412, 15)"
      ]
     },
     "execution_count": 33,
     "metadata": {},
     "output_type": "execute_result"
    }
   ],
   "source": [
    "final_df.shape"
   ]
  },
  {
   "cell_type": "code",
   "execution_count": 34,
   "metadata": {},
   "outputs": [
    {
     "data": {
      "text/html": [
       "<div>\n",
       "<style scoped>\n",
       "    .dataframe tbody tr th:only-of-type {\n",
       "        vertical-align: middle;\n",
       "    }\n",
       "\n",
       "    .dataframe tbody tr th {\n",
       "        vertical-align: top;\n",
       "    }\n",
       "\n",
       "    .dataframe thead th {\n",
       "        text-align: right;\n",
       "    }\n",
       "</style>\n",
       "<table border=\"1\" class=\"dataframe\">\n",
       "  <thead>\n",
       "    <tr style=\"text-align: right;\">\n",
       "      <th></th>\n",
       "      <th>latitude</th>\n",
       "      <th>longitude</th>\n",
       "      <th>brightness</th>\n",
       "      <th>scan</th>\n",
       "      <th>track</th>\n",
       "      <th>acq_date</th>\n",
       "      <th>acq_time</th>\n",
       "      <th>satellite</th>\n",
       "      <th>instrument</th>\n",
       "      <th>confidence</th>\n",
       "      <th>version</th>\n",
       "      <th>bright_t31</th>\n",
       "      <th>frp</th>\n",
       "      <th>daynight</th>\n",
       "      <th>type</th>\n",
       "    </tr>\n",
       "  </thead>\n",
       "  <tbody>\n",
       "    <tr>\n",
       "      <th>6719</th>\n",
       "      <td>40.5313</td>\n",
       "      <td>-122.9687</td>\n",
       "      <td>313.1</td>\n",
       "      <td>1.4</td>\n",
       "      <td>1.2</td>\n",
       "      <td>2016-02-11</td>\n",
       "      <td>2138</td>\n",
       "      <td>Aqua</td>\n",
       "      <td>MODIS</td>\n",
       "      <td>73</td>\n",
       "      <td>6.2</td>\n",
       "      <td>286.5</td>\n",
       "      <td>19.4</td>\n",
       "      <td>D</td>\n",
       "      <td>0</td>\n",
       "    </tr>\n",
       "    <tr>\n",
       "      <th>6720</th>\n",
       "      <td>40.5297</td>\n",
       "      <td>-122.9847</td>\n",
       "      <td>325.9</td>\n",
       "      <td>1.4</td>\n",
       "      <td>1.2</td>\n",
       "      <td>2016-02-11</td>\n",
       "      <td>2138</td>\n",
       "      <td>Aqua</td>\n",
       "      <td>MODIS</td>\n",
       "      <td>84</td>\n",
       "      <td>6.2</td>\n",
       "      <td>285.4</td>\n",
       "      <td>38.8</td>\n",
       "      <td>D</td>\n",
       "      <td>0</td>\n",
       "    </tr>\n",
       "    <tr>\n",
       "      <th>7550</th>\n",
       "      <td>38.9585</td>\n",
       "      <td>-122.1252</td>\n",
       "      <td>311.5</td>\n",
       "      <td>1.0</td>\n",
       "      <td>1.0</td>\n",
       "      <td>2016-02-12</td>\n",
       "      <td>1903</td>\n",
       "      <td>Terra</td>\n",
       "      <td>MODIS</td>\n",
       "      <td>71</td>\n",
       "      <td>6.2</td>\n",
       "      <td>285.1</td>\n",
       "      <td>10.8</td>\n",
       "      <td>D</td>\n",
       "      <td>0</td>\n",
       "    </tr>\n",
       "    <tr>\n",
       "      <th>7570</th>\n",
       "      <td>40.5257</td>\n",
       "      <td>-123.0070</td>\n",
       "      <td>323.3</td>\n",
       "      <td>2.4</td>\n",
       "      <td>1.5</td>\n",
       "      <td>2016-02-12</td>\n",
       "      <td>2043</td>\n",
       "      <td>Aqua</td>\n",
       "      <td>MODIS</td>\n",
       "      <td>76</td>\n",
       "      <td>6.2</td>\n",
       "      <td>286.0</td>\n",
       "      <td>81.5</td>\n",
       "      <td>D</td>\n",
       "      <td>0</td>\n",
       "    </tr>\n",
       "    <tr>\n",
       "      <th>7571</th>\n",
       "      <td>40.5320</td>\n",
       "      <td>-122.9801</td>\n",
       "      <td>327.5</td>\n",
       "      <td>2.4</td>\n",
       "      <td>1.5</td>\n",
       "      <td>2016-02-12</td>\n",
       "      <td>2043</td>\n",
       "      <td>Aqua</td>\n",
       "      <td>MODIS</td>\n",
       "      <td>81</td>\n",
       "      <td>6.2</td>\n",
       "      <td>284.6</td>\n",
       "      <td>99.2</td>\n",
       "      <td>D</td>\n",
       "      <td>0</td>\n",
       "    </tr>\n",
       "  </tbody>\n",
       "</table>\n",
       "</div>"
      ],
      "text/plain": [
       "      latitude  longitude  brightness  scan  track    acq_date  acq_time  \\\n",
       "6719   40.5313  -122.9687       313.1   1.4    1.2  2016-02-11      2138   \n",
       "6720   40.5297  -122.9847       325.9   1.4    1.2  2016-02-11      2138   \n",
       "7550   38.9585  -122.1252       311.5   1.0    1.0  2016-02-12      1903   \n",
       "7570   40.5257  -123.0070       323.3   2.4    1.5  2016-02-12      2043   \n",
       "7571   40.5320  -122.9801       327.5   2.4    1.5  2016-02-12      2043   \n",
       "\n",
       "     satellite instrument  confidence  version  bright_t31   frp daynight  \\\n",
       "6719      Aqua      MODIS          73      6.2       286.5  19.4        D   \n",
       "6720      Aqua      MODIS          84      6.2       285.4  38.8        D   \n",
       "7550     Terra      MODIS          71      6.2       285.1  10.8        D   \n",
       "7570      Aqua      MODIS          76      6.2       286.0  81.5        D   \n",
       "7571      Aqua      MODIS          81      6.2       284.6  99.2        D   \n",
       "\n",
       "      type  \n",
       "6719     0  \n",
       "6720     0  \n",
       "7550     0  \n",
       "7570     0  \n",
       "7571     0  "
      ]
     },
     "execution_count": 34,
     "metadata": {},
     "output_type": "execute_result"
    }
   ],
   "source": [
    "final_df.head()"
   ]
  },
  {
   "cell_type": "code",
   "execution_count": 35,
   "metadata": {},
   "outputs": [],
   "source": [
    "final_df.rename(columns={'latitude':'lat', \n",
    "                         'longitude':'lon',\n",
    "                         'acq_date':'date'}, inplace = True)"
   ]
  },
  {
   "cell_type": "code",
   "execution_count": 36,
   "metadata": {},
   "outputs": [
    {
     "data": {
      "text/plain": [
       "(10412, 15)"
      ]
     },
     "execution_count": 36,
     "metadata": {},
     "output_type": "execute_result"
    }
   ],
   "source": [
    "final_df.shape"
   ]
  },
  {
   "cell_type": "code",
   "execution_count": 37,
   "metadata": {},
   "outputs": [],
   "source": [
    "df_fire_initial= final_df[['date','lat','lon']]"
   ]
  },
  {
   "cell_type": "code",
   "execution_count": 38,
   "metadata": {},
   "outputs": [],
   "source": [
    "df_fire_initial['date'] = df_fire_initial['date'].astype(str)"
   ]
  },
  {
   "cell_type": "code",
   "execution_count": 39,
   "metadata": {},
   "outputs": [],
   "source": [
    "df_fire_initial['lon'] = df_fire_initial['lon'].astype(str)\n",
    "df_fire_initial['lat'] = df_fire_initial['lat'].astype(str)"
   ]
  },
  {
   "cell_type": "code",
   "execution_count": 40,
   "metadata": {},
   "outputs": [
    {
     "data": {
      "text/plain": [
       "date    object\n",
       "lat     object\n",
       "lon     object\n",
       "dtype: object"
      ]
     },
     "execution_count": 40,
     "metadata": {},
     "output_type": "execute_result"
    }
   ],
   "source": [
    "df_fire_initial.dtypes\n"
   ]
  },
  {
   "cell_type": "code",
   "execution_count": 41,
   "metadata": {},
   "outputs": [
    {
     "data": {
      "text/html": [
       "<div>\n",
       "<style scoped>\n",
       "    .dataframe tbody tr th:only-of-type {\n",
       "        vertical-align: middle;\n",
       "    }\n",
       "\n",
       "    .dataframe tbody tr th {\n",
       "        vertical-align: top;\n",
       "    }\n",
       "\n",
       "    .dataframe thead th {\n",
       "        text-align: right;\n",
       "    }\n",
       "</style>\n",
       "<table border=\"1\" class=\"dataframe\">\n",
       "  <thead>\n",
       "    <tr style=\"text-align: right;\">\n",
       "      <th></th>\n",
       "      <th>date</th>\n",
       "      <th>lat</th>\n",
       "      <th>lon</th>\n",
       "    </tr>\n",
       "  </thead>\n",
       "  <tbody>\n",
       "    <tr>\n",
       "      <th>6719</th>\n",
       "      <td>2016-02-11</td>\n",
       "      <td>40.5313</td>\n",
       "      <td>-122.9687</td>\n",
       "    </tr>\n",
       "    <tr>\n",
       "      <th>6720</th>\n",
       "      <td>2016-02-11</td>\n",
       "      <td>40.5297</td>\n",
       "      <td>-122.9847</td>\n",
       "    </tr>\n",
       "    <tr>\n",
       "      <th>7550</th>\n",
       "      <td>2016-02-12</td>\n",
       "      <td>38.9585</td>\n",
       "      <td>-122.1252</td>\n",
       "    </tr>\n",
       "    <tr>\n",
       "      <th>7570</th>\n",
       "      <td>2016-02-12</td>\n",
       "      <td>40.5257</td>\n",
       "      <td>-123.007</td>\n",
       "    </tr>\n",
       "    <tr>\n",
       "      <th>7571</th>\n",
       "      <td>2016-02-12</td>\n",
       "      <td>40.532</td>\n",
       "      <td>-122.9801</td>\n",
       "    </tr>\n",
       "  </tbody>\n",
       "</table>\n",
       "</div>"
      ],
      "text/plain": [
       "            date      lat        lon\n",
       "6719  2016-02-11  40.5313  -122.9687\n",
       "6720  2016-02-11  40.5297  -122.9847\n",
       "7550  2016-02-12  38.9585  -122.1252\n",
       "7570  2016-02-12  40.5257   -123.007\n",
       "7571  2016-02-12   40.532  -122.9801"
      ]
     },
     "execution_count": 41,
     "metadata": {},
     "output_type": "execute_result"
    }
   ],
   "source": [
    "df_fire_initial.shape\n",
    "df_fire_initial.head()"
   ]
  },
  {
   "cell_type": "markdown",
   "metadata": {},
   "source": [
    "## Getting the satelitte imagery\n",
    "We now have all the fire instances we need to get all the images we need when we query nasa's LandSAT api."
   ]
  },
  {
   "cell_type": "markdown",
   "metadata": {},
   "source": [
    "## URL for the API:\n",
    "example api \n",
    "https://api.nasa.gov/planetary/earth/imagery?lon=100.75&lat=1.5&date=2014-02-01&api_key=DEMO_KEY"
   ]
  },
  {
   "cell_type": "code",
   "execution_count": 42,
   "metadata": {},
   "outputs": [],
   "source": [
    "key=open('../nasa_api/nasa_api_key.txt','r').read()"
   ]
  },
  {
   "cell_type": "code",
   "execution_count": 43,
   "metadata": {},
   "outputs": [],
   "source": [
    "import time"
   ]
  },
  {
   "cell_type": "code",
   "execution_count": 44,
   "metadata": {},
   "outputs": [],
   "source": [
    "from tqdm import tqdm"
   ]
  },
  {
   "cell_type": "code",
   "execution_count": 45,
   "metadata": {},
   "outputs": [
    {
     "data": {
      "text/plain": [
       "'..\\\\images\\\\fire_images'"
      ]
     },
     "execution_count": 45,
     "metadata": {},
     "output_type": "execute_result"
    }
   ],
   "source": [
    "import os\n",
    "os.path.join(os.path.pardir,'images','fire_images',)"
   ]
  },
  {
   "cell_type": "code",
   "execution_count": 46,
   "metadata": {},
   "outputs": [
    {
     "name": "stderr",
     "output_type": "stream",
     "text": [
      "100%|██████████| 100/100 [00:01<00:00, 92.34it/s]\n"
     ]
    }
   ],
   "source": [
    "with tqdm(total=100) as pbar:\n",
    "    for i in range(10):\n",
    "        time.sleep(0.1)\n",
    "        pbar.update(10)"
   ]
  },
  {
   "cell_type": "markdown",
   "metadata": {},
   "source": [
    "## Setting up download request"
   ]
  },
  {
   "cell_type": "code",
   "execution_count": 47,
   "metadata": {},
   "outputs": [],
   "source": [
    "#a = 'https://api.nasa.gov/planetary/earth/imagery?'\n",
    "#b='lon='\n",
    "#c='&lat='\n",
    "#l= '&dim=0.025'\n",
    "#d= '&date='\n",
    "#e= '&api_key='\n",
    "\n",
    "\n",
    "#i = 0\n",
    "#with tqdm(total=df_fire_initial.shape[0]) as pbar:\n",
    "    \n",
    "    \n",
    "#    for index, row in df_fire_initial.iterrows():\n",
    "#        url= a + b + row['lon'] + c + row['lat'] + l + d + row['date'] + e + key\n",
    "#        urllib.request.urlretrieve(url, os.path.join(os.path.pardir,'images','fire_images',)\\\n",
    "#                                    +row['lon'] + row['lat']+ row['date']\n",
    "#                                    +'.jpg')\n",
    "#        i += 1\n",
    "#        pbar.update(1)\n",
    "#        if i == 999:\n",
    "#            time.sleep(3600)\n",
    "#            i = 0\n",
    "    "
   ]
  },
  {
   "cell_type": "markdown",
   "metadata": {},
   "source": [
    "## Images downloaded are terrible, lets try google maps api\n"
   ]
  },
  {
   "cell_type": "code",
   "execution_count": 48,
   "metadata": {},
   "outputs": [],
   "source": [
    "df_fire_initial['center']= df_fire_initial[['lat','lon']].agg(','.join, axis = 1)"
   ]
  },
  {
   "cell_type": "code",
   "execution_count": 49,
   "metadata": {},
   "outputs": [
    {
     "data": {
      "text/html": [
       "<div>\n",
       "<style scoped>\n",
       "    .dataframe tbody tr th:only-of-type {\n",
       "        vertical-align: middle;\n",
       "    }\n",
       "\n",
       "    .dataframe tbody tr th {\n",
       "        vertical-align: top;\n",
       "    }\n",
       "\n",
       "    .dataframe thead th {\n",
       "        text-align: right;\n",
       "    }\n",
       "</style>\n",
       "<table border=\"1\" class=\"dataframe\">\n",
       "  <thead>\n",
       "    <tr style=\"text-align: right;\">\n",
       "      <th></th>\n",
       "      <th>date</th>\n",
       "      <th>lat</th>\n",
       "      <th>lon</th>\n",
       "      <th>center</th>\n",
       "    </tr>\n",
       "  </thead>\n",
       "  <tbody>\n",
       "    <tr>\n",
       "      <th>6719</th>\n",
       "      <td>2016-02-11</td>\n",
       "      <td>40.5313</td>\n",
       "      <td>-122.9687</td>\n",
       "      <td>40.5313,-122.9687</td>\n",
       "    </tr>\n",
       "    <tr>\n",
       "      <th>6720</th>\n",
       "      <td>2016-02-11</td>\n",
       "      <td>40.5297</td>\n",
       "      <td>-122.9847</td>\n",
       "      <td>40.5297,-122.9847</td>\n",
       "    </tr>\n",
       "    <tr>\n",
       "      <th>7550</th>\n",
       "      <td>2016-02-12</td>\n",
       "      <td>38.9585</td>\n",
       "      <td>-122.1252</td>\n",
       "      <td>38.9585,-122.1252</td>\n",
       "    </tr>\n",
       "    <tr>\n",
       "      <th>7570</th>\n",
       "      <td>2016-02-12</td>\n",
       "      <td>40.5257</td>\n",
       "      <td>-123.007</td>\n",
       "      <td>40.5257,-123.007</td>\n",
       "    </tr>\n",
       "    <tr>\n",
       "      <th>7571</th>\n",
       "      <td>2016-02-12</td>\n",
       "      <td>40.532</td>\n",
       "      <td>-122.9801</td>\n",
       "      <td>40.532,-122.9801</td>\n",
       "    </tr>\n",
       "    <tr>\n",
       "      <th>...</th>\n",
       "      <td>...</td>\n",
       "      <td>...</td>\n",
       "      <td>...</td>\n",
       "      <td>...</td>\n",
       "    </tr>\n",
       "    <tr>\n",
       "      <th>104060</th>\n",
       "      <td>2019-12-04</td>\n",
       "      <td>38.5259</td>\n",
       "      <td>-120.4962</td>\n",
       "      <td>38.5259,-120.4962</td>\n",
       "    </tr>\n",
       "    <tr>\n",
       "      <th>105137</th>\n",
       "      <td>2019-12-05</td>\n",
       "      <td>38.4384</td>\n",
       "      <td>-120.4773</td>\n",
       "      <td>38.4384,-120.4773</td>\n",
       "    </tr>\n",
       "    <tr>\n",
       "      <th>105208</th>\n",
       "      <td>2019-12-06</td>\n",
       "      <td>38.872</td>\n",
       "      <td>-120.6605</td>\n",
       "      <td>38.872,-120.6605</td>\n",
       "    </tr>\n",
       "    <tr>\n",
       "      <th>105209</th>\n",
       "      <td>2019-12-06</td>\n",
       "      <td>38.5313</td>\n",
       "      <td>-120.5913</td>\n",
       "      <td>38.5313,-120.5913</td>\n",
       "    </tr>\n",
       "    <tr>\n",
       "      <th>106997</th>\n",
       "      <td>2019-12-28</td>\n",
       "      <td>40.5843</td>\n",
       "      <td>-122.4706</td>\n",
       "      <td>40.5843,-122.4706</td>\n",
       "    </tr>\n",
       "  </tbody>\n",
       "</table>\n",
       "<p>10412 rows × 4 columns</p>\n",
       "</div>"
      ],
      "text/plain": [
       "              date      lat        lon             center\n",
       "6719    2016-02-11  40.5313  -122.9687  40.5313,-122.9687\n",
       "6720    2016-02-11  40.5297  -122.9847  40.5297,-122.9847\n",
       "7550    2016-02-12  38.9585  -122.1252  38.9585,-122.1252\n",
       "7570    2016-02-12  40.5257   -123.007   40.5257,-123.007\n",
       "7571    2016-02-12   40.532  -122.9801   40.532,-122.9801\n",
       "...            ...      ...        ...                ...\n",
       "104060  2019-12-04  38.5259  -120.4962  38.5259,-120.4962\n",
       "105137  2019-12-05  38.4384  -120.4773  38.4384,-120.4773\n",
       "105208  2019-12-06   38.872  -120.6605   38.872,-120.6605\n",
       "105209  2019-12-06  38.5313  -120.5913  38.5313,-120.5913\n",
       "106997  2019-12-28  40.5843  -122.4706  40.5843,-122.4706\n",
       "\n",
       "[10412 rows x 4 columns]"
      ]
     },
     "execution_count": 49,
     "metadata": {},
     "output_type": "execute_result"
    }
   ],
   "source": [
    "df_fire_initial"
   ]
  },
  {
   "cell_type": "code",
   "execution_count": 50,
   "metadata": {},
   "outputs": [],
   "source": [
    "img_size = '350x350' # Let's try this for now.  Gets multiplied by scale for resolution\n",
    "# 350x350 seems to be about the minimum for image resolution\n",
    "# ~100kb each, 20k images, 2 gigs for the batch, wf and nwf\n",
    "\n",
    "img_format = 'jpg' # For compressability (is that a word?) png is 'png8' for 8 bit and 'png32' for 32 bit\n",
    "\n",
    "map_scale = '1' # For scale parameter. \n",
    "\n",
    "maptype = 'satellite' # Obvious reason\n",
    "\n",
    "zoom = '15' # try that to start"
   ]
  },
  {
   "cell_type": "code",
   "execution_count": 51,
   "metadata": {},
   "outputs": [],
   "source": [
    "key_2 = open('../google_api/google_key.txt', 'r').read()"
   ]
  },
  {
   "cell_type": "code",
   "execution_count": 52,
   "metadata": {},
   "outputs": [],
   "source": [
    "a = 'https://maps.googleapis.com/maps/api/staticmap?' # Base\n",
    "b = 'center=' # Center \n",
    "# Enter Center\n",
    "c = '&zoom=' # Zoom\n",
    "# Enter Zoom\n",
    "d = '&maptype=satellite' # Map type \n",
    "# No need to enter maptype - just keep satellite default\n",
    "e = '&size=' # Image Size\n",
    "# Enter image size\n",
    "f = '&key='\n",
    "# Enter key\n",
    "\n",
    "# Creating the URL:\n",
    "url1 = a + b\n",
    "url2 = c + zoom + d + e + img_size + f + key_2\n",
    "# URL = url1 + row['center'] + url2"
   ]
  },
  {
   "cell_type": "code",
   "execution_count": null,
   "metadata": {},
   "outputs": [],
   "source": []
  },
  {
   "cell_type": "code",
   "execution_count": 53,
   "metadata": {},
   "outputs": [
    {
     "data": {
      "text/plain": [
       "10412"
      ]
     },
     "execution_count": 53,
     "metadata": {},
     "output_type": "execute_result"
    }
   ],
   "source": [
    "df_fire_initial.index[6370:].shape[0] + 6370"
   ]
  },
  {
   "cell_type": "markdown",
   "metadata": {},
   "source": [
    "\n",
    "for index, row in df_fire_initial.iterrows():\n",
    "    url = url1 + row['center'] + url2\n",
    "    r = requests.get(url)\n",
    "    display(Image(r.content))"
   ]
  },
  {
   "cell_type": "code",
   "execution_count": 54,
   "metadata": {},
   "outputs": [],
   "source": [
    "#i = 0 \n",
    "#with tqdm(total=df_fire_initial.shape[0]) as pbar:\n",
    "\n",
    " #   for index[:6369], row in df_fire_initial.iterrows():\n",
    "  #      url= url1 + row['center'] + url2\n",
    "   #     urllib.request.urlretrieve(url, os.path.join(os.path.pardir,'images','fire_images',)\\\n",
    "    #                                + row['center']\n",
    "     #                               +'.jpg')\n",
    "      #      #i += 1\n",
    "       # pbar.update(1)\n",
    "            #if i == 999:\n",
    "                #time.sleep(3600)\n",
    "                #i = 0"
   ]
  },
  {
   "cell_type": "markdown",
   "metadata": {},
   "source": [
    "The loop stopped when it was 61% through. I am going to max a new dataframe based off of where the progress bar indicates that it stopped."
   ]
  },
  {
   "cell_type": "code",
   "execution_count": 55,
   "metadata": {},
   "outputs": [],
   "source": [
    "#df_fire_2 = df_fire_initial.index[6369]\n",
    "#df_fire_2"
   ]
  },
  {
   "cell_type": "code",
   "execution_count": 56,
   "metadata": {},
   "outputs": [
    {
     "ename": "IndentationError",
     "evalue": "unexpected indent (<ipython-input-56-3ebb623e656b>, line 6)",
     "output_type": "error",
     "traceback": [
      "\u001b[1;36m  File \u001b[1;32m\"<ipython-input-56-3ebb623e656b>\"\u001b[1;36m, line \u001b[1;32m6\u001b[0m\n\u001b[1;33m    + row['center']\u001b[0m\n\u001b[1;37m    ^\u001b[0m\n\u001b[1;31mIndentationError\u001b[0m\u001b[1;31m:\u001b[0m unexpected indent\n"
     ]
    }
   ],
   "source": [
    "#with tqdm(total=df_fire_initial.shape[0]) as pbar:\n",
    "\n",
    " #   for index, row in df_fire_initial.iterrows():\n",
    "  #      url= url1 + row['center'] + url2\n",
    "   #     urllib.request.urlretrieve(url, os.path.join(os.path.pardir,'images','fire_images',)\\\n",
    "                                    + row['center']\n",
    "                                    +'.jpg')\n",
    "            #i += 1\n",
    "    #    pbar.update(1)\n",
    "            #if i == 999:\n",
    "                #time.sleep(3600)\n",
    "                #i = 0"
   ]
  },
  {
   "cell_type": "code",
   "execution_count": 57,
   "metadata": {},
   "outputs": [
    {
     "data": {
      "text/html": [
       "<div>\n",
       "<style scoped>\n",
       "    .dataframe tbody tr th:only-of-type {\n",
       "        vertical-align: middle;\n",
       "    }\n",
       "\n",
       "    .dataframe tbody tr th {\n",
       "        vertical-align: top;\n",
       "    }\n",
       "\n",
       "    .dataframe thead th {\n",
       "        text-align: right;\n",
       "    }\n",
       "</style>\n",
       "<table border=\"1\" class=\"dataframe\">\n",
       "  <thead>\n",
       "    <tr style=\"text-align: right;\">\n",
       "      <th></th>\n",
       "      <th>date</th>\n",
       "      <th>lat</th>\n",
       "      <th>lon</th>\n",
       "      <th>center</th>\n",
       "    </tr>\n",
       "  </thead>\n",
       "  <tbody>\n",
       "    <tr>\n",
       "      <th>6719</th>\n",
       "      <td>2016-02-11</td>\n",
       "      <td>40.5313</td>\n",
       "      <td>-122.9687</td>\n",
       "      <td>40.5313,-122.9687</td>\n",
       "    </tr>\n",
       "    <tr>\n",
       "      <th>6720</th>\n",
       "      <td>2016-02-11</td>\n",
       "      <td>40.5297</td>\n",
       "      <td>-122.9847</td>\n",
       "      <td>40.5297,-122.9847</td>\n",
       "    </tr>\n",
       "    <tr>\n",
       "      <th>7550</th>\n",
       "      <td>2016-02-12</td>\n",
       "      <td>38.9585</td>\n",
       "      <td>-122.1252</td>\n",
       "      <td>38.9585,-122.1252</td>\n",
       "    </tr>\n",
       "    <tr>\n",
       "      <th>7570</th>\n",
       "      <td>2016-02-12</td>\n",
       "      <td>40.5257</td>\n",
       "      <td>-123.007</td>\n",
       "      <td>40.5257,-123.007</td>\n",
       "    </tr>\n",
       "    <tr>\n",
       "      <th>7571</th>\n",
       "      <td>2016-02-12</td>\n",
       "      <td>40.532</td>\n",
       "      <td>-122.9801</td>\n",
       "      <td>40.532,-122.9801</td>\n",
       "    </tr>\n",
       "  </tbody>\n",
       "</table>\n",
       "</div>"
      ],
      "text/plain": [
       "            date      lat        lon             center\n",
       "6719  2016-02-11  40.5313  -122.9687  40.5313,-122.9687\n",
       "6720  2016-02-11  40.5297  -122.9847  40.5297,-122.9847\n",
       "7550  2016-02-12  38.9585  -122.1252  38.9585,-122.1252\n",
       "7570  2016-02-12  40.5257   -123.007   40.5257,-123.007\n",
       "7571  2016-02-12   40.532  -122.9801   40.532,-122.9801"
      ]
     },
     "execution_count": 57,
     "metadata": {},
     "output_type": "execute_result"
    }
   ],
   "source": [
    "df_fire_initial.head()"
   ]
  },
  {
   "cell_type": "code",
   "execution_count": 59,
   "metadata": {},
   "outputs": [
    {
     "data": {
      "text/html": [
       "<div>\n",
       "<style scoped>\n",
       "    .dataframe tbody tr th:only-of-type {\n",
       "        vertical-align: middle;\n",
       "    }\n",
       "\n",
       "    .dataframe tbody tr th {\n",
       "        vertical-align: top;\n",
       "    }\n",
       "\n",
       "    .dataframe thead th {\n",
       "        text-align: right;\n",
       "    }\n",
       "</style>\n",
       "<table border=\"1\" class=\"dataframe\">\n",
       "  <thead>\n",
       "    <tr style=\"text-align: right;\">\n",
       "      <th></th>\n",
       "      <th>lat</th>\n",
       "      <th>lon</th>\n",
       "      <th>center</th>\n",
       "    </tr>\n",
       "  </thead>\n",
       "  <tbody>\n",
       "    <tr>\n",
       "      <th>0</th>\n",
       "      <td>40.81474113765569</td>\n",
       "      <td>-121.87070448081356</td>\n",
       "      <td>40.81474113765569,-121.87070448081356</td>\n",
       "    </tr>\n",
       "    <tr>\n",
       "      <th>1</th>\n",
       "      <td>39.03522731238067</td>\n",
       "      <td>-121.40588388230948</td>\n",
       "      <td>39.03522731238067,-121.40588388230948</td>\n",
       "    </tr>\n",
       "    <tr>\n",
       "      <th>2</th>\n",
       "      <td>39.10985934916388</td>\n",
       "      <td>-122.49333698296881</td>\n",
       "      <td>39.10985934916388,-122.49333698296881</td>\n",
       "    </tr>\n",
       "    <tr>\n",
       "      <th>3</th>\n",
       "      <td>38.81415854290227</td>\n",
       "      <td>-122.90454152999503</td>\n",
       "      <td>38.81415854290227,-122.90454152999503</td>\n",
       "    </tr>\n",
       "    <tr>\n",
       "      <th>4</th>\n",
       "      <td>39.658806993641015</td>\n",
       "      <td>-120.47637265375636</td>\n",
       "      <td>39.658806993641015,-120.47637265375636</td>\n",
       "    </tr>\n",
       "    <tr>\n",
       "      <th>...</th>\n",
       "      <td>...</td>\n",
       "      <td>...</td>\n",
       "      <td>...</td>\n",
       "    </tr>\n",
       "    <tr>\n",
       "      <th>9995</th>\n",
       "      <td>40.7647514779545</td>\n",
       "      <td>-120.61687669661251</td>\n",
       "      <td>40.7647514779545,-120.61687669661251</td>\n",
       "    </tr>\n",
       "    <tr>\n",
       "      <th>9996</th>\n",
       "      <td>40.21689610860821</td>\n",
       "      <td>-121.76711627471278</td>\n",
       "      <td>40.21689610860821,-121.76711627471278</td>\n",
       "    </tr>\n",
       "    <tr>\n",
       "      <th>9997</th>\n",
       "      <td>38.53948777783302</td>\n",
       "      <td>-122.50975299348165</td>\n",
       "      <td>38.53948777783302,-122.50975299348165</td>\n",
       "    </tr>\n",
       "    <tr>\n",
       "      <th>9998</th>\n",
       "      <td>40.777788920418985</td>\n",
       "      <td>-121.87960982555505</td>\n",
       "      <td>40.777788920418985,-121.87960982555505</td>\n",
       "    </tr>\n",
       "    <tr>\n",
       "      <th>9999</th>\n",
       "      <td>38.549951944321094</td>\n",
       "      <td>-122.03085326921223</td>\n",
       "      <td>38.549951944321094,-122.03085326921223</td>\n",
       "    </tr>\n",
       "  </tbody>\n",
       "</table>\n",
       "<p>10000 rows × 3 columns</p>\n",
       "</div>"
      ],
      "text/plain": [
       "                     lat                  lon  \\\n",
       "0      40.81474113765569  -121.87070448081356   \n",
       "1      39.03522731238067  -121.40588388230948   \n",
       "2      39.10985934916388  -122.49333698296881   \n",
       "3      38.81415854290227  -122.90454152999503   \n",
       "4     39.658806993641015  -120.47637265375636   \n",
       "...                  ...                  ...   \n",
       "9995    40.7647514779545  -120.61687669661251   \n",
       "9996   40.21689610860821  -121.76711627471278   \n",
       "9997   38.53948777783302  -122.50975299348165   \n",
       "9998  40.777788920418985  -121.87960982555505   \n",
       "9999  38.549951944321094  -122.03085326921223   \n",
       "\n",
       "                                      center  \n",
       "0      40.81474113765569,-121.87070448081356  \n",
       "1      39.03522731238067,-121.40588388230948  \n",
       "2      39.10985934916388,-122.49333698296881  \n",
       "3      38.81415854290227,-122.90454152999503  \n",
       "4     39.658806993641015,-120.47637265375636  \n",
       "...                                      ...  \n",
       "9995    40.7647514779545,-120.61687669661251  \n",
       "9996   40.21689610860821,-121.76711627471278  \n",
       "9997   38.53948777783302,-122.50975299348165  \n",
       "9998  40.777788920418985,-121.87960982555505  \n",
       "9999  38.549951944321094,-122.03085326921223  \n",
       "\n",
       "[10000 rows x 3 columns]"
      ]
     },
     "execution_count": 59,
     "metadata": {},
     "output_type": "execute_result"
    }
   ],
   "source": [
    "df_non_fire"
   ]
  },
  {
   "cell_type": "markdown",
   "metadata": {},
   "source": [
    "## Retrieving Non-fire images\n",
    "\n",
    "this is going to be a function that iterates over the same area, and pulls out non fire classes."
   ]
  },
  {
   "cell_type": "code",
   "execution_count": 58,
   "metadata": {},
   "outputs": [
    {
     "data": {
      "text/html": [
       "<div>\n",
       "<style scoped>\n",
       "    .dataframe tbody tr th:only-of-type {\n",
       "        vertical-align: middle;\n",
       "    }\n",
       "\n",
       "    .dataframe tbody tr th {\n",
       "        vertical-align: top;\n",
       "    }\n",
       "\n",
       "    .dataframe thead th {\n",
       "        text-align: right;\n",
       "    }\n",
       "</style>\n",
       "<table border=\"1\" class=\"dataframe\">\n",
       "  <thead>\n",
       "    <tr style=\"text-align: right;\">\n",
       "      <th></th>\n",
       "      <th>lat</th>\n",
       "      <th>lon</th>\n",
       "      <th>center</th>\n",
       "    </tr>\n",
       "  </thead>\n",
       "  <tbody>\n",
       "    <tr>\n",
       "      <th>0</th>\n",
       "      <td>40.81474113765569</td>\n",
       "      <td>-121.87070448081356</td>\n",
       "      <td>40.81474113765569,-121.87070448081356</td>\n",
       "    </tr>\n",
       "    <tr>\n",
       "      <th>1</th>\n",
       "      <td>39.03522731238067</td>\n",
       "      <td>-121.40588388230948</td>\n",
       "      <td>39.03522731238067,-121.40588388230948</td>\n",
       "    </tr>\n",
       "    <tr>\n",
       "      <th>2</th>\n",
       "      <td>39.10985934916388</td>\n",
       "      <td>-122.49333698296881</td>\n",
       "      <td>39.10985934916388,-122.49333698296881</td>\n",
       "    </tr>\n",
       "    <tr>\n",
       "      <th>3</th>\n",
       "      <td>38.81415854290227</td>\n",
       "      <td>-122.90454152999503</td>\n",
       "      <td>38.81415854290227,-122.90454152999503</td>\n",
       "    </tr>\n",
       "    <tr>\n",
       "      <th>4</th>\n",
       "      <td>39.658806993641015</td>\n",
       "      <td>-120.47637265375636</td>\n",
       "      <td>39.658806993641015,-120.47637265375636</td>\n",
       "    </tr>\n",
       "  </tbody>\n",
       "</table>\n",
       "</div>"
      ],
      "text/plain": [
       "                  lat                  lon  \\\n",
       "0   40.81474113765569  -121.87070448081356   \n",
       "1   39.03522731238067  -121.40588388230948   \n",
       "2   39.10985934916388  -122.49333698296881   \n",
       "3   38.81415854290227  -122.90454152999503   \n",
       "4  39.658806993641015  -120.47637265375636   \n",
       "\n",
       "                                   center  \n",
       "0   40.81474113765569,-121.87070448081356  \n",
       "1   39.03522731238067,-121.40588388230948  \n",
       "2   39.10985934916388,-122.49333698296881  \n",
       "3   38.81415854290227,-122.90454152999503  \n",
       "4  39.658806993641015,-120.47637265375636  "
      ]
     },
     "execution_count": 58,
     "metadata": {},
     "output_type": "execute_result"
    }
   ],
   "source": [
    "non_fire_size= 10000\n",
    "\n",
    "df_fire_initial['lat'] = df_fire_initial.lat.astype(float) #to get randomized lats and lons we need to convert back to floats\n",
    "df_fire_initial['lon'] = df_fire_initial.lon.astype(float)\n",
    "\n",
    "new_lat = np.random.uniform(low= min(df_fire_initial.lat),\n",
    "                            high = max(df_fire_initial.lat),  #randomizing our new coordinated between the square area we\n",
    "                            size= (non_fire_size,))         # retrieved the wildfire images from\n",
    "\n",
    "new_lon = np.random.uniform(low = min(df_fire_initial.lon),\n",
    "                            high = max(df_fire_initial.lon),\n",
    "                            size=(non_fire_size,))\n",
    "\n",
    "new_coordinates= {'lat':new_lat,'lon':new_lon}\n",
    "\n",
    "df_non_fire = pd.DataFrame(data = new_coordinates)\n",
    "\n",
    "\n",
    "df_non_fire['lat'] = df_non_fire['lat'].astype(str)  #converting our new coordinates to string so we can use them when we call\n",
    "df_non_fire['lon'] = df_non_fire['lon'].astype(str)  # on our API\n",
    "df_non_fire['center'] = df_non_fire[['lat', 'lon']].agg(','.join, axis = 1) \n",
    "\n",
    "\n",
    "\n",
    "df_fire_initial['lat'] = df_fire_initial.lat.astype(str)\n",
    "df_fire_initial['lon'] = df_fire_initial.lon.astype(str)\n",
    "\n",
    "df_non_fire.head()\n",
    "\n"
   ]
  },
  {
   "cell_type": "code",
   "execution_count": null,
   "metadata": {},
   "outputs": [],
   "source": [
    "os.path.join(os.path.pardir,'images','non_fire',)"
   ]
  },
  {
   "cell_type": "code",
   "execution_count": null,
   "metadata": {},
   "outputs": [],
   "source": [
    "#i = 0 \n",
    "with tqdm(total=df_non_fire.shape[0]) as pbar:\n",
    "\n",
    "    for index, row in df_non_fire.iterrows():\n",
    "        url= url1 + row['center'] + url2\n",
    "        urllib.request.urlretrieve(url, os.path.join(os.path.pardir,'images','non_fire',)\\\n",
    "                                    + row['center']\n",
    "                                    +'.jpg')\n",
    "            \n",
    "        pbar.update(1)\n",
    "            "
   ]
  },
  {
   "cell_type": "code",
   "execution_count": null,
   "metadata": {},
   "outputs": [],
   "source": []
  },
  {
   "cell_type": "code",
   "execution_count": null,
   "metadata": {},
   "outputs": [],
   "source": []
  },
  {
   "cell_type": "code",
   "execution_count": null,
   "metadata": {},
   "outputs": [],
   "source": []
  },
  {
   "cell_type": "code",
   "execution_count": null,
   "metadata": {},
   "outputs": [],
   "source": []
  }
 ],
 "metadata": {
  "kernelspec": {
   "display_name": "Python 3",
   "language": "python",
   "name": "python3"
  },
  "language_info": {
   "codemirror_mode": {
    "name": "ipython",
    "version": 3
   },
   "file_extension": ".py",
   "mimetype": "text/x-python",
   "name": "python",
   "nbconvert_exporter": "python",
   "pygments_lexer": "ipython3",
   "version": "3.8.3"
  }
 },
 "nbformat": 4,
 "nbformat_minor": 4
}
