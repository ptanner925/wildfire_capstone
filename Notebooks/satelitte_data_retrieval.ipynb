{
 "cells": [
  {
   "cell_type": "markdown",
   "metadata": {},
   "source": [
    "## Initial Satelitte Data retrieval.\n",
    "\n",
    "The following dataset was gathered from NASA FIRMs website and encases all fire anomalies throughout the year of 2019. The initial EDA that follows will narrow down the scope of our search to Northern California using the proper longitute and latitude ranges comprising a square area of approximately 70,000 km^2. All anomalies contained in the final dataframe should be over land, and also with a confidence rating of over 75%. Let's razzle dazzle."
   ]
  },
  {
   "cell_type": "code",
   "execution_count": 1,
   "metadata": {},
   "outputs": [],
   "source": [
    "import numpy as np\n",
    "import pandas as pd\n",
    "import matplotlib.pyplot as plt\n",
    "\n",
    "\n",
    "import seaborn as sns\n",
    "#import geopandas as pd\n",
    "#import folium\n",
    "\n",
    "import requests\n",
    "from IPython.display import Image, display\n",
    "\n",
    "import random\n",
    "\n",
    "import urllib.request\n",
    "\n",
    "import warnings\n",
    "warnings.filterwarnings('ignore')\n",
    "\n",
    "#show all columns\n",
    "\n",
    "pd.set_option('display.max_columns', None)"
   ]
  },
  {
   "cell_type": "code",
   "execution_count": 2,
   "metadata": {},
   "outputs": [],
   "source": [
    "modis_df= pd.read_csv('../data/modis_2019_United_States.csv')"
   ]
  },
  {
   "cell_type": "code",
   "execution_count": 3,
   "metadata": {},
   "outputs": [
    {
     "data": {
      "text/plain": [
       "(107213, 15)"
      ]
     },
     "execution_count": 3,
     "metadata": {},
     "output_type": "execute_result"
    }
   ],
   "source": [
    "modis_df.shape"
   ]
  },
  {
   "cell_type": "code",
   "execution_count": 4,
   "metadata": {},
   "outputs": [
    {
     "data": {
      "text/html": [
       "<div>\n",
       "<style scoped>\n",
       "    .dataframe tbody tr th:only-of-type {\n",
       "        vertical-align: middle;\n",
       "    }\n",
       "\n",
       "    .dataframe tbody tr th {\n",
       "        vertical-align: top;\n",
       "    }\n",
       "\n",
       "    .dataframe thead th {\n",
       "        text-align: right;\n",
       "    }\n",
       "</style>\n",
       "<table border=\"1\" class=\"dataframe\">\n",
       "  <thead>\n",
       "    <tr style=\"text-align: right;\">\n",
       "      <th></th>\n",
       "      <th>latitude</th>\n",
       "      <th>longitude</th>\n",
       "      <th>brightness</th>\n",
       "      <th>scan</th>\n",
       "      <th>track</th>\n",
       "      <th>acq_date</th>\n",
       "      <th>acq_time</th>\n",
       "      <th>satellite</th>\n",
       "      <th>instrument</th>\n",
       "      <th>confidence</th>\n",
       "      <th>version</th>\n",
       "      <th>bright_t31</th>\n",
       "      <th>frp</th>\n",
       "      <th>daynight</th>\n",
       "      <th>type</th>\n",
       "    </tr>\n",
       "  </thead>\n",
       "  <tbody>\n",
       "    <tr>\n",
       "      <th>0</th>\n",
       "      <td>36.1292</td>\n",
       "      <td>-114.9293</td>\n",
       "      <td>304.2</td>\n",
       "      <td>1.2</td>\n",
       "      <td>1.1</td>\n",
       "      <td>2019-01-01</td>\n",
       "      <td>950</td>\n",
       "      <td>Aqua</td>\n",
       "      <td>MODIS</td>\n",
       "      <td>59</td>\n",
       "      <td>6.03</td>\n",
       "      <td>271.1</td>\n",
       "      <td>14.1</td>\n",
       "      <td>N</td>\n",
       "      <td>0</td>\n",
       "    </tr>\n",
       "    <tr>\n",
       "      <th>1</th>\n",
       "      <td>30.8237</td>\n",
       "      <td>-83.6847</td>\n",
       "      <td>318.0</td>\n",
       "      <td>1.8</td>\n",
       "      <td>1.3</td>\n",
       "      <td>2019-01-01</td>\n",
       "      <td>1600</td>\n",
       "      <td>Terra</td>\n",
       "      <td>MODIS</td>\n",
       "      <td>76</td>\n",
       "      <td>6.03</td>\n",
       "      <td>293.9</td>\n",
       "      <td>30.9</td>\n",
       "      <td>D</td>\n",
       "      <td>0</td>\n",
       "    </tr>\n",
       "    <tr>\n",
       "      <th>2</th>\n",
       "      <td>30.8298</td>\n",
       "      <td>-83.6779</td>\n",
       "      <td>310.6</td>\n",
       "      <td>1.8</td>\n",
       "      <td>1.3</td>\n",
       "      <td>2019-01-01</td>\n",
       "      <td>1600</td>\n",
       "      <td>Terra</td>\n",
       "      <td>MODIS</td>\n",
       "      <td>54</td>\n",
       "      <td>6.03</td>\n",
       "      <td>293.9</td>\n",
       "      <td>15.7</td>\n",
       "      <td>D</td>\n",
       "      <td>0</td>\n",
       "    </tr>\n",
       "    <tr>\n",
       "      <th>3</th>\n",
       "      <td>26.7338</td>\n",
       "      <td>-81.0102</td>\n",
       "      <td>327.6</td>\n",
       "      <td>1.1</td>\n",
       "      <td>1.1</td>\n",
       "      <td>2019-01-01</td>\n",
       "      <td>1601</td>\n",
       "      <td>Terra</td>\n",
       "      <td>MODIS</td>\n",
       "      <td>83</td>\n",
       "      <td>6.03</td>\n",
       "      <td>297.4</td>\n",
       "      <td>26.2</td>\n",
       "      <td>D</td>\n",
       "      <td>0</td>\n",
       "    </tr>\n",
       "    <tr>\n",
       "      <th>4</th>\n",
       "      <td>26.7258</td>\n",
       "      <td>-81.0230</td>\n",
       "      <td>313.3</td>\n",
       "      <td>1.1</td>\n",
       "      <td>1.1</td>\n",
       "      <td>2019-01-01</td>\n",
       "      <td>1601</td>\n",
       "      <td>Terra</td>\n",
       "      <td>MODIS</td>\n",
       "      <td>67</td>\n",
       "      <td>6.03</td>\n",
       "      <td>294.4</td>\n",
       "      <td>9.2</td>\n",
       "      <td>D</td>\n",
       "      <td>0</td>\n",
       "    </tr>\n",
       "  </tbody>\n",
       "</table>\n",
       "</div>"
      ],
      "text/plain": [
       "   latitude  longitude  brightness  scan  track    acq_date  acq_time  \\\n",
       "0   36.1292  -114.9293       304.2   1.2    1.1  2019-01-01       950   \n",
       "1   30.8237   -83.6847       318.0   1.8    1.3  2019-01-01      1600   \n",
       "2   30.8298   -83.6779       310.6   1.8    1.3  2019-01-01      1600   \n",
       "3   26.7338   -81.0102       327.6   1.1    1.1  2019-01-01      1601   \n",
       "4   26.7258   -81.0230       313.3   1.1    1.1  2019-01-01      1601   \n",
       "\n",
       "  satellite instrument  confidence  version  bright_t31   frp daynight  type  \n",
       "0      Aqua      MODIS          59     6.03       271.1  14.1        N     0  \n",
       "1     Terra      MODIS          76     6.03       293.9  30.9        D     0  \n",
       "2     Terra      MODIS          54     6.03       293.9  15.7        D     0  \n",
       "3     Terra      MODIS          83     6.03       297.4  26.2        D     0  \n",
       "4     Terra      MODIS          67     6.03       294.4   9.2        D     0  "
      ]
     },
     "execution_count": 4,
     "metadata": {},
     "output_type": "execute_result"
    }
   ],
   "source": [
    "modis_df.head()"
   ]
  },
  {
   "cell_type": "code",
   "execution_count": 5,
   "metadata": {},
   "outputs": [
    {
     "name": "stdout",
     "output_type": "stream",
     "text": [
      "<class 'pandas.core.frame.DataFrame'>\n",
      "RangeIndex: 107213 entries, 0 to 107212\n",
      "Data columns (total 15 columns):\n",
      " #   Column      Non-Null Count   Dtype  \n",
      "---  ------      --------------   -----  \n",
      " 0   latitude    107213 non-null  float64\n",
      " 1   longitude   107213 non-null  float64\n",
      " 2   brightness  107213 non-null  float64\n",
      " 3   scan        107213 non-null  float64\n",
      " 4   track       107213 non-null  float64\n",
      " 5   acq_date    107213 non-null  object \n",
      " 6   acq_time    107213 non-null  int64  \n",
      " 7   satellite   107213 non-null  object \n",
      " 8   instrument  107213 non-null  object \n",
      " 9   confidence  107213 non-null  int64  \n",
      " 10  version     107213 non-null  float64\n",
      " 11  bright_t31  107213 non-null  float64\n",
      " 12  frp         107213 non-null  float64\n",
      " 13  daynight    107213 non-null  object \n",
      " 14  type        107213 non-null  int64  \n",
      "dtypes: float64(8), int64(3), object(4)\n",
      "memory usage: 12.3+ MB\n"
     ]
    }
   ],
   "source": [
    "modis_df.info()"
   ]
  },
  {
   "cell_type": "code",
   "execution_count": 6,
   "metadata": {},
   "outputs": [
    {
     "data": {
      "text/plain": [
       "0"
      ]
     },
     "execution_count": 6,
     "metadata": {},
     "output_type": "execute_result"
    }
   ],
   "source": [
    "modis_df.isna().sum().sum()"
   ]
  },
  {
   "cell_type": "code",
   "execution_count": 7,
   "metadata": {},
   "outputs": [],
   "source": [
    "new_df= modis_df[(modis_df['latitude'] >= 38.0881) & (modis_df['latitude'] <= 40.8336)]"
   ]
  },
  {
   "cell_type": "code",
   "execution_count": 8,
   "metadata": {},
   "outputs": [
    {
     "data": {
      "text/plain": [
       "(8541, 15)"
      ]
     },
     "execution_count": 8,
     "metadata": {},
     "output_type": "execute_result"
    }
   ],
   "source": [
    "new_df.shape"
   ]
  },
  {
   "cell_type": "code",
   "execution_count": 9,
   "metadata": {},
   "outputs": [],
   "source": [
    "df_2= new_df[(new_df['longitude'] >= -123.1208) & (new_df['longitude'] <= -120.2933)]"
   ]
  },
  {
   "cell_type": "code",
   "execution_count": 10,
   "metadata": {},
   "outputs": [
    {
     "data": {
      "text/plain": [
       "(2730, 15)"
      ]
     },
     "execution_count": 10,
     "metadata": {},
     "output_type": "execute_result"
    }
   ],
   "source": [
    "df_2.shape"
   ]
  },
  {
   "cell_type": "code",
   "execution_count": 11,
   "metadata": {},
   "outputs": [],
   "source": [
    "df_3 = df_2[(df_2.confidence >= 70)]"
   ]
  },
  {
   "cell_type": "code",
   "execution_count": 12,
   "metadata": {},
   "outputs": [
    {
     "data": {
      "text/plain": [
       "(1537, 15)"
      ]
     },
     "execution_count": 12,
     "metadata": {},
     "output_type": "execute_result"
    }
   ],
   "source": [
    "df_3.shape"
   ]
  },
  {
   "cell_type": "markdown",
   "metadata": {},
   "source": [
    "### "
   ]
  },
  {
   "cell_type": "code",
   "execution_count": 21,
   "metadata": {},
   "outputs": [],
   "source": [
    "mod_2019_final = df_final_2019"
   ]
  },
  {
   "cell_type": "code",
   "execution_count": 22,
   "metadata": {},
   "outputs": [
    {
     "data": {
      "text/plain": [
       "(1537, 15)"
      ]
     },
     "execution_count": 22,
     "metadata": {},
     "output_type": "execute_result"
    }
   ],
   "source": [
    "mod_2019_final.shape"
   ]
  },
  {
   "cell_type": "code",
   "execution_count": 14,
   "metadata": {},
   "outputs": [
    {
     "data": {
      "text/plain": [
       "(755, 15)"
      ]
     },
     "execution_count": 14,
     "metadata": {},
     "output_type": "execute_result"
    }
   ],
   "source": [
    "df_final.shape ### after brief research this last step is not necessary. Terra and Aqua satellite do not measure between fires on\n",
    "#land or on water, but rather refer two different satellites that occupy two different orbitals around the earth."
   ]
  },
  {
   "cell_type": "markdown",
   "metadata": {},
   "source": [
    "At this point after doing my transformations i feel like i may need more data so lets import from 2015,2016,2017 and 2018 as well. considering we have 1537 isntances, this will not be enough images for our eventual CNN. But lets work our way back, from 2018"
   ]
  },
  {
   "cell_type": "code",
   "execution_count": 15,
   "metadata": {},
   "outputs": [],
   "source": [
    "mod_2018 = pd.read_csv('../data/modis_2018_United_States.csv')"
   ]
  },
  {
   "cell_type": "code",
   "execution_count": 20,
   "metadata": {},
   "outputs": [],
   "source": [
    "mod_2018_2= mod_2018[(mod_2018['latitude'] >= 38.0881) & (mod_2018['latitude'] <= 40.8336)]"
   ]
  },
  {
   "cell_type": "code",
   "execution_count": 23,
   "metadata": {},
   "outputs": [],
   "source": [
    "mod_2018_3= mod_2018_2[(mod_2018_2['longitude'] >= -123.1208) & (mod_2018_2['longitude'] <= -120.2933)]"
   ]
  },
  {
   "cell_type": "code",
   "execution_count": 24,
   "metadata": {},
   "outputs": [],
   "source": [
    "mod_2018_final = mod_2018_3[(mod_2018_3.confidence >= 70)]"
   ]
  },
  {
   "cell_type": "code",
   "execution_count": 25,
   "metadata": {},
   "outputs": [
    {
     "data": {
      "text/plain": [
       "(6492, 15)"
      ]
     },
     "execution_count": 25,
     "metadata": {},
     "output_type": "execute_result"
    }
   ],
   "source": [
    "mod_2018_final.shape"
   ]
  },
  {
   "cell_type": "code",
   "execution_count": 26,
   "metadata": {},
   "outputs": [],
   "source": [
    "mod_2017 = pd.read_csv('../data/modis_2017_United_States.csv')"
   ]
  },
  {
   "cell_type": "code",
   "execution_count": 27,
   "metadata": {},
   "outputs": [],
   "source": [
    "mod_2017_2= mod_2017[(mod_2017['latitude'] >= 38.0881) & (mod_2017['latitude'] <= 40.8336)]"
   ]
  },
  {
   "cell_type": "code",
   "execution_count": 28,
   "metadata": {},
   "outputs": [],
   "source": [
    "mod_2017_3= mod_2017_2[(mod_2017_2['longitude'] >= -123.1208) & (mod_2017_2['longitude'] <= -120.2933)]"
   ]
  },
  {
   "cell_type": "code",
   "execution_count": 29,
   "metadata": {},
   "outputs": [],
   "source": [
    "mod_2017_final = mod_2017_3[(mod_2017_3.confidence >= 70)]"
   ]
  },
  {
   "cell_type": "code",
   "execution_count": 30,
   "metadata": {},
   "outputs": [
    {
     "data": {
      "text/plain": [
       "(1807, 15)"
      ]
     },
     "execution_count": 30,
     "metadata": {},
     "output_type": "execute_result"
    }
   ],
   "source": [
    "mod_2017_final.shape"
   ]
  },
  {
   "cell_type": "code",
   "execution_count": 39,
   "metadata": {},
   "outputs": [
    {
     "data": {
      "text/plain": [
       "10412"
      ]
     },
     "execution_count": 39,
     "metadata": {},
     "output_type": "execute_result"
    }
   ],
   "source": [
    "1537 + 6492 + 1807 + 576"
   ]
  },
  {
   "cell_type": "code",
   "execution_count": 32,
   "metadata": {},
   "outputs": [],
   "source": [
    "mod_2016 = pd.read_csv('../data/modis_2016_United_States.csv')"
   ]
  },
  {
   "cell_type": "code",
   "execution_count": 33,
   "metadata": {},
   "outputs": [],
   "source": [
    "mod_2016_2 =mod_2016[(mod_2016['latitude'] >= 38.0881) & (mod_2016['latitude'] <= 40.8336)]"
   ]
  },
  {
   "cell_type": "code",
   "execution_count": 35,
   "metadata": {},
   "outputs": [],
   "source": [
    "mod_2016_3= mod_2016_2[(mod_2016_2['longitude'] >= -123.1208) & (mod_2016_2['longitude'] <= -120.2933)]"
   ]
  },
  {
   "cell_type": "code",
   "execution_count": 36,
   "metadata": {},
   "outputs": [],
   "source": [
    "mod_2016_final = mod_2016_3[(mod_2016_3.confidence >= 70)] "
   ]
  },
  {
   "cell_type": "code",
   "execution_count": 38,
   "metadata": {},
   "outputs": [
    {
     "data": {
      "text/plain": [
       "(576, 15)"
      ]
     },
     "execution_count": 38,
     "metadata": {},
     "output_type": "execute_result"
    }
   ],
   "source": [
    "mod_2016_final.shape"
   ]
  },
  {
   "cell_type": "code",
   "execution_count": 40,
   "metadata": {},
   "outputs": [],
   "source": [
    "frames= [mod_2016_final, mod_2017_final, mod_2018_final, mod_2019_final]\n",
    "final_df= pd.concat(frames)"
   ]
  },
  {
   "cell_type": "code",
   "execution_count": 41,
   "metadata": {},
   "outputs": [
    {
     "data": {
      "text/plain": [
       "(10412, 15)"
      ]
     },
     "execution_count": 41,
     "metadata": {},
     "output_type": "execute_result"
    }
   ],
   "source": [
    "final_df.shape"
   ]
  },
  {
   "cell_type": "code",
   "execution_count": 42,
   "metadata": {},
   "outputs": [
    {
     "data": {
      "text/html": [
       "<div>\n",
       "<style scoped>\n",
       "    .dataframe tbody tr th:only-of-type {\n",
       "        vertical-align: middle;\n",
       "    }\n",
       "\n",
       "    .dataframe tbody tr th {\n",
       "        vertical-align: top;\n",
       "    }\n",
       "\n",
       "    .dataframe thead th {\n",
       "        text-align: right;\n",
       "    }\n",
       "</style>\n",
       "<table border=\"1\" class=\"dataframe\">\n",
       "  <thead>\n",
       "    <tr style=\"text-align: right;\">\n",
       "      <th></th>\n",
       "      <th>latitude</th>\n",
       "      <th>longitude</th>\n",
       "      <th>brightness</th>\n",
       "      <th>scan</th>\n",
       "      <th>track</th>\n",
       "      <th>acq_date</th>\n",
       "      <th>acq_time</th>\n",
       "      <th>satellite</th>\n",
       "      <th>instrument</th>\n",
       "      <th>confidence</th>\n",
       "      <th>version</th>\n",
       "      <th>bright_t31</th>\n",
       "      <th>frp</th>\n",
       "      <th>daynight</th>\n",
       "      <th>type</th>\n",
       "    </tr>\n",
       "  </thead>\n",
       "  <tbody>\n",
       "    <tr>\n",
       "      <th>6719</th>\n",
       "      <td>40.5313</td>\n",
       "      <td>-122.9687</td>\n",
       "      <td>313.1</td>\n",
       "      <td>1.4</td>\n",
       "      <td>1.2</td>\n",
       "      <td>2016-02-11</td>\n",
       "      <td>2138</td>\n",
       "      <td>Aqua</td>\n",
       "      <td>MODIS</td>\n",
       "      <td>73</td>\n",
       "      <td>6.2</td>\n",
       "      <td>286.5</td>\n",
       "      <td>19.4</td>\n",
       "      <td>D</td>\n",
       "      <td>0</td>\n",
       "    </tr>\n",
       "    <tr>\n",
       "      <th>6720</th>\n",
       "      <td>40.5297</td>\n",
       "      <td>-122.9847</td>\n",
       "      <td>325.9</td>\n",
       "      <td>1.4</td>\n",
       "      <td>1.2</td>\n",
       "      <td>2016-02-11</td>\n",
       "      <td>2138</td>\n",
       "      <td>Aqua</td>\n",
       "      <td>MODIS</td>\n",
       "      <td>84</td>\n",
       "      <td>6.2</td>\n",
       "      <td>285.4</td>\n",
       "      <td>38.8</td>\n",
       "      <td>D</td>\n",
       "      <td>0</td>\n",
       "    </tr>\n",
       "    <tr>\n",
       "      <th>7550</th>\n",
       "      <td>38.9585</td>\n",
       "      <td>-122.1252</td>\n",
       "      <td>311.5</td>\n",
       "      <td>1.0</td>\n",
       "      <td>1.0</td>\n",
       "      <td>2016-02-12</td>\n",
       "      <td>1903</td>\n",
       "      <td>Terra</td>\n",
       "      <td>MODIS</td>\n",
       "      <td>71</td>\n",
       "      <td>6.2</td>\n",
       "      <td>285.1</td>\n",
       "      <td>10.8</td>\n",
       "      <td>D</td>\n",
       "      <td>0</td>\n",
       "    </tr>\n",
       "    <tr>\n",
       "      <th>7570</th>\n",
       "      <td>40.5257</td>\n",
       "      <td>-123.0070</td>\n",
       "      <td>323.3</td>\n",
       "      <td>2.4</td>\n",
       "      <td>1.5</td>\n",
       "      <td>2016-02-12</td>\n",
       "      <td>2043</td>\n",
       "      <td>Aqua</td>\n",
       "      <td>MODIS</td>\n",
       "      <td>76</td>\n",
       "      <td>6.2</td>\n",
       "      <td>286.0</td>\n",
       "      <td>81.5</td>\n",
       "      <td>D</td>\n",
       "      <td>0</td>\n",
       "    </tr>\n",
       "    <tr>\n",
       "      <th>7571</th>\n",
       "      <td>40.5320</td>\n",
       "      <td>-122.9801</td>\n",
       "      <td>327.5</td>\n",
       "      <td>2.4</td>\n",
       "      <td>1.5</td>\n",
       "      <td>2016-02-12</td>\n",
       "      <td>2043</td>\n",
       "      <td>Aqua</td>\n",
       "      <td>MODIS</td>\n",
       "      <td>81</td>\n",
       "      <td>6.2</td>\n",
       "      <td>284.6</td>\n",
       "      <td>99.2</td>\n",
       "      <td>D</td>\n",
       "      <td>0</td>\n",
       "    </tr>\n",
       "  </tbody>\n",
       "</table>\n",
       "</div>"
      ],
      "text/plain": [
       "      latitude  longitude  brightness  scan  track    acq_date  acq_time  \\\n",
       "6719   40.5313  -122.9687       313.1   1.4    1.2  2016-02-11      2138   \n",
       "6720   40.5297  -122.9847       325.9   1.4    1.2  2016-02-11      2138   \n",
       "7550   38.9585  -122.1252       311.5   1.0    1.0  2016-02-12      1903   \n",
       "7570   40.5257  -123.0070       323.3   2.4    1.5  2016-02-12      2043   \n",
       "7571   40.5320  -122.9801       327.5   2.4    1.5  2016-02-12      2043   \n",
       "\n",
       "     satellite instrument  confidence  version  bright_t31   frp daynight  \\\n",
       "6719      Aqua      MODIS          73      6.2       286.5  19.4        D   \n",
       "6720      Aqua      MODIS          84      6.2       285.4  38.8        D   \n",
       "7550     Terra      MODIS          71      6.2       285.1  10.8        D   \n",
       "7570      Aqua      MODIS          76      6.2       286.0  81.5        D   \n",
       "7571      Aqua      MODIS          81      6.2       284.6  99.2        D   \n",
       "\n",
       "      type  \n",
       "6719     0  \n",
       "6720     0  \n",
       "7550     0  \n",
       "7570     0  \n",
       "7571     0  "
      ]
     },
     "execution_count": 42,
     "metadata": {},
     "output_type": "execute_result"
    }
   ],
   "source": [
    "final_df.head()"
   ]
  },
  {
   "cell_type": "code",
   "execution_count": null,
   "metadata": {},
   "outputs": [],
   "source": []
  }
 ],
 "metadata": {
  "kernelspec": {
   "display_name": "Python 3",
   "language": "python",
   "name": "python3"
  },
  "language_info": {
   "codemirror_mode": {
    "name": "ipython",
    "version": 3
   },
   "file_extension": ".py",
   "mimetype": "text/x-python",
   "name": "python",
   "nbconvert_exporter": "python",
   "pygments_lexer": "ipython3",
   "version": "3.8.3"
  }
 },
 "nbformat": 4,
 "nbformat_minor": 4
}
