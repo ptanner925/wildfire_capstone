{
 "cells": [
  {
   "cell_type": "markdown",
   "metadata": {},
   "source": [
    "## Initial Satelitte Data retrieval\n",
    "\n",
    "The following dataset was gathered from NASA FIRMs website and encases all fire anomalies between 2015 and 2019 in Northern California. The initial data cleaning that follows will narrow down the scope of our search to Northern California using the proper longitute and latitude ranges comprising a square area of approximately 70,000 km^2. All anomalies contained in the final dataframe should be over land, and also with a confidence rating of over 75%. This confidence rating is a measurement of how sure that the satellite succesfully detected a fire anomaly. It should be noted that not all fire anomalies equate to wildfires.\n",
    "\n",
    "\n",
    "The resulting dataframe we will use to query our Google API to retrieve satellite images that have experience wildfires over the last 5 years. We will then try to use these images to build a CNN that is able to determine the probability that an area has experience a wildfire, and thus when fed a test image is able to determine a probability that this area will also experience a wildfire event."
   ]
  },
  {
   "cell_type": "markdown",
   "metadata": {},
   "source": [
    "## Importing Necessary Libraries and Packages\n"
   ]
  },
  {
   "cell_type": "code",
   "execution_count": 4,
   "metadata": {},
   "outputs": [],
   "source": [
    "import pandas as pd\n",
    "import numpy as np\n",
    "\n",
    "import seaborn as sns\n",
    "import matplotlib.pyplot as plt\n",
    "%matplotlib inline\n",
    "\n",
    "import requests\n",
    "import random\n",
    "\n",
    "import urllib.request\n",
    "\n",
    "import warnings \n",
    "warnings.filterwarnings('ignore')\n",
    "\n",
    "# Show all columns"
   ]
  },
  {
   "cell_type": "markdown",
   "metadata": {},
   "source": [
    "The following csv's were downloaded from https://firms.modaps.eosdis.nasa.gov/country/. This archive contains archives of all fire anomalies recorded by the Modis intsrument satellites over the entire earth. To get each relevant dataset I merely selected the year, and the country, the United States, in which our target area (Northern California) was located. Thus each dataset you see below contains all the fire anomalies recorded over the US for each labeled year."
   ]
  },
  {
   "cell_type": "code",
   "execution_count": 5,
   "metadata": {},
   "outputs": [],
   "source": [
    "df_2015 = pd.read_csv('../data/modis_2015_United_States.csv')\n",
    "df_2016 = pd.read_csv('../data/modis_2016_United_States.csv')\n",
    "df_2017 = pd.read_csv('../data/modis_2017_United_States.csv')\n",
    "df_2018 = pd.read_csv('../data/modis_2018_United_States.csv')\n",
    "df_2019 = pd.read_csv('../data/modis_2019_United_States.csv')"
   ]
  },
  {
   "cell_type": "markdown",
   "metadata": {},
   "source": [
    "Let's condense all of our dataframes into a single one so we can perform the proper masks in 2 or 3 fell strokes to get the data of our target area."
   ]
  },
  {
   "cell_type": "code",
   "execution_count": 6,
   "metadata": {},
   "outputs": [],
   "source": [
    "frames = [df_2015, df_2016, df_2017, df_2018, df_2019]\n",
    "pre_final = pd.concat(frames)"
   ]
  },
  {
   "cell_type": "code",
   "execution_count": 8,
   "metadata": {},
   "outputs": [
    {
     "data": {
      "text/plain": [
       "(643545, 15)"
      ]
     },
     "execution_count": 8,
     "metadata": {},
     "output_type": "execute_result"
    }
   ],
   "source": [
    "pre_final.shape\n"
   ]
  },
  {
   "cell_type": "code",
   "execution_count": 9,
   "metadata": {},
   "outputs": [
    {
     "data": {
      "text/html": [
       "<div>\n",
       "<style scoped>\n",
       "    .dataframe tbody tr th:only-of-type {\n",
       "        vertical-align: middle;\n",
       "    }\n",
       "\n",
       "    .dataframe tbody tr th {\n",
       "        vertical-align: top;\n",
       "    }\n",
       "\n",
       "    .dataframe thead th {\n",
       "        text-align: right;\n",
       "    }\n",
       "</style>\n",
       "<table border=\"1\" class=\"dataframe\">\n",
       "  <thead>\n",
       "    <tr style=\"text-align: right;\">\n",
       "      <th></th>\n",
       "      <th>latitude</th>\n",
       "      <th>longitude</th>\n",
       "      <th>brightness</th>\n",
       "      <th>scan</th>\n",
       "      <th>track</th>\n",
       "      <th>acq_date</th>\n",
       "      <th>acq_time</th>\n",
       "      <th>satellite</th>\n",
       "      <th>instrument</th>\n",
       "      <th>confidence</th>\n",
       "      <th>version</th>\n",
       "      <th>bright_t31</th>\n",
       "      <th>frp</th>\n",
       "      <th>daynight</th>\n",
       "      <th>type</th>\n",
       "    </tr>\n",
       "  </thead>\n",
       "  <tbody>\n",
       "    <tr>\n",
       "      <th>0</th>\n",
       "      <td>19.4104</td>\n",
       "      <td>-155.2771</td>\n",
       "      <td>306.4</td>\n",
       "      <td>1.1</td>\n",
       "      <td>1.1</td>\n",
       "      <td>2015-01-01</td>\n",
       "      <td>830</td>\n",
       "      <td>Terra</td>\n",
       "      <td>MODIS</td>\n",
       "      <td>68</td>\n",
       "      <td>6.2</td>\n",
       "      <td>284.0</td>\n",
       "      <td>12.1</td>\n",
       "      <td>N</td>\n",
       "      <td>2</td>\n",
       "    </tr>\n",
       "    <tr>\n",
       "      <th>1</th>\n",
       "      <td>19.4425</td>\n",
       "      <td>-155.0047</td>\n",
       "      <td>324.1</td>\n",
       "      <td>1.1</td>\n",
       "      <td>1.0</td>\n",
       "      <td>2015-01-01</td>\n",
       "      <td>830</td>\n",
       "      <td>Terra</td>\n",
       "      <td>MODIS</td>\n",
       "      <td>100</td>\n",
       "      <td>6.2</td>\n",
       "      <td>286.0</td>\n",
       "      <td>29.0</td>\n",
       "      <td>N</td>\n",
       "      <td>2</td>\n",
       "    </tr>\n",
       "    <tr>\n",
       "      <th>2</th>\n",
       "      <td>19.4601</td>\n",
       "      <td>-154.9925</td>\n",
       "      <td>313.0</td>\n",
       "      <td>1.1</td>\n",
       "      <td>1.0</td>\n",
       "      <td>2015-01-01</td>\n",
       "      <td>830</td>\n",
       "      <td>Terra</td>\n",
       "      <td>MODIS</td>\n",
       "      <td>86</td>\n",
       "      <td>6.2</td>\n",
       "      <td>288.0</td>\n",
       "      <td>16.7</td>\n",
       "      <td>N</td>\n",
       "      <td>2</td>\n",
       "    </tr>\n",
       "    <tr>\n",
       "      <th>3</th>\n",
       "      <td>19.4087</td>\n",
       "      <td>-155.2876</td>\n",
       "      <td>309.8</td>\n",
       "      <td>1.1</td>\n",
       "      <td>1.1</td>\n",
       "      <td>2015-01-01</td>\n",
       "      <td>830</td>\n",
       "      <td>Terra</td>\n",
       "      <td>MODIS</td>\n",
       "      <td>78</td>\n",
       "      <td>6.2</td>\n",
       "      <td>284.0</td>\n",
       "      <td>14.8</td>\n",
       "      <td>N</td>\n",
       "      <td>2</td>\n",
       "    </tr>\n",
       "    <tr>\n",
       "      <th>4</th>\n",
       "      <td>41.6333</td>\n",
       "      <td>-87.1361</td>\n",
       "      <td>301.0</td>\n",
       "      <td>1.9</td>\n",
       "      <td>1.3</td>\n",
       "      <td>2015-01-01</td>\n",
       "      <td>1717</td>\n",
       "      <td>Terra</td>\n",
       "      <td>MODIS</td>\n",
       "      <td>33</td>\n",
       "      <td>6.2</td>\n",
       "      <td>270.7</td>\n",
       "      <td>22.7</td>\n",
       "      <td>D</td>\n",
       "      <td>2</td>\n",
       "    </tr>\n",
       "  </tbody>\n",
       "</table>\n",
       "</div>"
      ],
      "text/plain": [
       "   latitude  longitude  brightness  scan  track    acq_date  acq_time  \\\n",
       "0   19.4104  -155.2771       306.4   1.1    1.1  2015-01-01       830   \n",
       "1   19.4425  -155.0047       324.1   1.1    1.0  2015-01-01       830   \n",
       "2   19.4601  -154.9925       313.0   1.1    1.0  2015-01-01       830   \n",
       "3   19.4087  -155.2876       309.8   1.1    1.1  2015-01-01       830   \n",
       "4   41.6333   -87.1361       301.0   1.9    1.3  2015-01-01      1717   \n",
       "\n",
       "  satellite instrument  confidence  version  bright_t31   frp daynight  type  \n",
       "0     Terra      MODIS          68      6.2       284.0  12.1        N     2  \n",
       "1     Terra      MODIS         100      6.2       286.0  29.0        N     2  \n",
       "2     Terra      MODIS          86      6.2       288.0  16.7        N     2  \n",
       "3     Terra      MODIS          78      6.2       284.0  14.8        N     2  \n",
       "4     Terra      MODIS          33      6.2       270.7  22.7        D     2  "
      ]
     },
     "execution_count": 9,
     "metadata": {},
     "output_type": "execute_result"
    }
   ],
   "source": [
    "pre_final.head()"
   ]
  },
  {
   "cell_type": "markdown",
   "metadata": {},
   "source": [
    "## Data Filtering"
   ]
  },
  {
   "cell_type": "code",
   "execution_count": 10,
   "metadata": {},
   "outputs": [],
   "source": [
    "#mask to limit our dataset to latitudes between 38.0881 and 40.8366\n",
    "\n",
    "pre_final_2 = pre_final[(pre_final['latitude'] >= 38.0881) & (pre_final['latitude'] <= 40.8336)] \n"
   ]
  },
  {
   "cell_type": "code",
   "execution_count": 16,
   "metadata": {},
   "outputs": [],
   "source": [
    "#mask to limit our dataset to longitudes between -123.1208 & -120.2933\n",
    "pre_final_3 = pre_final_2[(pre_final_2['longitude'] >= -123.1208) & (pre_final_2['longitude'] <= -120.2933)]"
   ]
  },
  {
   "cell_type": "code",
   "execution_count": 14,
   "metadata": {},
   "outputs": [],
   "source": [
    "#mask to only give us fire instances with a given confidence level from the Satellite of 75%\n",
    "final_wf_df = pre_final_3[(pre_final_3['confidence'] >= 75)]"
   ]
  },
  {
   "cell_type": "code",
   "execution_count": 15,
   "metadata": {},
   "outputs": [
    {
     "data": {
      "text/plain": [
       "(10896, 15)"
      ]
     },
     "execution_count": 15,
     "metadata": {},
     "output_type": "execute_result"
    }
   ],
   "source": [
    "final_wf_df.shape"
   ]
  },
  {
   "cell_type": "code",
   "execution_count": 17,
   "metadata": {},
   "outputs": [
    {
     "data": {
      "text/html": [
       "<div>\n",
       "<style scoped>\n",
       "    .dataframe tbody tr th:only-of-type {\n",
       "        vertical-align: middle;\n",
       "    }\n",
       "\n",
       "    .dataframe tbody tr th {\n",
       "        vertical-align: top;\n",
       "    }\n",
       "\n",
       "    .dataframe thead th {\n",
       "        text-align: right;\n",
       "    }\n",
       "</style>\n",
       "<table border=\"1\" class=\"dataframe\">\n",
       "  <thead>\n",
       "    <tr style=\"text-align: right;\">\n",
       "      <th></th>\n",
       "      <th>latitude</th>\n",
       "      <th>longitude</th>\n",
       "      <th>brightness</th>\n",
       "      <th>scan</th>\n",
       "      <th>track</th>\n",
       "      <th>acq_date</th>\n",
       "      <th>acq_time</th>\n",
       "      <th>satellite</th>\n",
       "      <th>instrument</th>\n",
       "      <th>confidence</th>\n",
       "      <th>version</th>\n",
       "      <th>bright_t31</th>\n",
       "      <th>frp</th>\n",
       "      <th>daynight</th>\n",
       "      <th>type</th>\n",
       "    </tr>\n",
       "  </thead>\n",
       "  <tbody>\n",
       "    <tr>\n",
       "      <th>383</th>\n",
       "      <td>38.8901</td>\n",
       "      <td>-122.9681</td>\n",
       "      <td>322.2</td>\n",
       "      <td>1.3</td>\n",
       "      <td>1.1</td>\n",
       "      <td>2015-01-07</td>\n",
       "      <td>2137</td>\n",
       "      <td>Aqua</td>\n",
       "      <td>MODIS</td>\n",
       "      <td>81</td>\n",
       "      <td>6.2</td>\n",
       "      <td>294.9</td>\n",
       "      <td>28.3</td>\n",
       "      <td>D</td>\n",
       "      <td>0</td>\n",
       "    </tr>\n",
       "    <tr>\n",
       "      <th>384</th>\n",
       "      <td>38.8884</td>\n",
       "      <td>-122.9837</td>\n",
       "      <td>321.4</td>\n",
       "      <td>1.3</td>\n",
       "      <td>1.1</td>\n",
       "      <td>2015-01-07</td>\n",
       "      <td>2137</td>\n",
       "      <td>Aqua</td>\n",
       "      <td>MODIS</td>\n",
       "      <td>81</td>\n",
       "      <td>6.2</td>\n",
       "      <td>293.4</td>\n",
       "      <td>26.8</td>\n",
       "      <td>D</td>\n",
       "      <td>0</td>\n",
       "    </tr>\n",
       "    <tr>\n",
       "      <th>851</th>\n",
       "      <td>39.1576</td>\n",
       "      <td>-120.6349</td>\n",
       "      <td>322.6</td>\n",
       "      <td>3.5</td>\n",
       "      <td>1.8</td>\n",
       "      <td>2015-01-12</td>\n",
       "      <td>2156</td>\n",
       "      <td>Aqua</td>\n",
       "      <td>MODIS</td>\n",
       "      <td>82</td>\n",
       "      <td>6.2</td>\n",
       "      <td>278.8</td>\n",
       "      <td>140.0</td>\n",
       "      <td>D</td>\n",
       "      <td>0</td>\n",
       "    </tr>\n",
       "    <tr>\n",
       "      <th>909</th>\n",
       "      <td>39.9387</td>\n",
       "      <td>-120.7503</td>\n",
       "      <td>327.4</td>\n",
       "      <td>1.1</td>\n",
       "      <td>1.0</td>\n",
       "      <td>2015-01-13</td>\n",
       "      <td>2101</td>\n",
       "      <td>Aqua</td>\n",
       "      <td>MODIS</td>\n",
       "      <td>85</td>\n",
       "      <td>6.2</td>\n",
       "      <td>276.4</td>\n",
       "      <td>34.5</td>\n",
       "      <td>D</td>\n",
       "      <td>0</td>\n",
       "    </tr>\n",
       "    <tr>\n",
       "      <th>911</th>\n",
       "      <td>39.9340</td>\n",
       "      <td>-120.7438</td>\n",
       "      <td>332.2</td>\n",
       "      <td>1.1</td>\n",
       "      <td>1.0</td>\n",
       "      <td>2015-01-13</td>\n",
       "      <td>2101</td>\n",
       "      <td>Aqua</td>\n",
       "      <td>MODIS</td>\n",
       "      <td>88</td>\n",
       "      <td>6.2</td>\n",
       "      <td>277.7</td>\n",
       "      <td>40.3</td>\n",
       "      <td>D</td>\n",
       "      <td>0</td>\n",
       "    </tr>\n",
       "  </tbody>\n",
       "</table>\n",
       "</div>"
      ],
      "text/plain": [
       "     latitude  longitude  brightness  scan  track    acq_date  acq_time  \\\n",
       "383   38.8901  -122.9681       322.2   1.3    1.1  2015-01-07      2137   \n",
       "384   38.8884  -122.9837       321.4   1.3    1.1  2015-01-07      2137   \n",
       "851   39.1576  -120.6349       322.6   3.5    1.8  2015-01-12      2156   \n",
       "909   39.9387  -120.7503       327.4   1.1    1.0  2015-01-13      2101   \n",
       "911   39.9340  -120.7438       332.2   1.1    1.0  2015-01-13      2101   \n",
       "\n",
       "    satellite instrument  confidence  version  bright_t31    frp daynight  \\\n",
       "383      Aqua      MODIS          81      6.2       294.9   28.3        D   \n",
       "384      Aqua      MODIS          81      6.2       293.4   26.8        D   \n",
       "851      Aqua      MODIS          82      6.2       278.8  140.0        D   \n",
       "909      Aqua      MODIS          85      6.2       276.4   34.5        D   \n",
       "911      Aqua      MODIS          88      6.2       277.7   40.3        D   \n",
       "\n",
       "     type  \n",
       "383     0  \n",
       "384     0  \n",
       "851     0  \n",
       "909     0  \n",
       "911     0  "
      ]
     },
     "execution_count": 17,
     "metadata": {},
     "output_type": "execute_result"
    }
   ],
   "source": [
    "final_wf_df.head()"
   ]
  },
  {
   "cell_type": "code",
   "execution_count": 18,
   "metadata": {},
   "outputs": [],
   "source": [
    "final_wf_df.rename(columns={'latitude':'lat', \n",
    "                         'longitude':'lon',\n",
    "                         'acq_date':'date'}, inplace = True) #renaming to reduce my own confusion when we go to query the google api\n",
    "                                                            "
   ]
  },
  {
   "cell_type": "code",
   "execution_count": null,
   "metadata": {},
   "outputs": [],
   "source": [
    "final"
   ]
  },
  {
   "cell_type": "markdown",
   "metadata": {},
   "source": [
    "# Setting up for our Google Static Map API Query\n",
    "\n",
    "Below you will notice I have reduced the final dataframe to include the data, latitude, and longitude components. And then the creation of a new column, centered, which contains a combined tuple of latitude and longitude for a given fire instance. You may notice when we go to query the google api that a query for the date is not included. This is because the Google static map api does not allow you to retrieve historical satellite images, only its most recent image for the given area queried. At the beginning of this project my intention was to query the NASA Earth api to retrieve historical satellite images of the day of the fire instance. But the images retrieved were problematic and of low resolution, thus not very valuable when it comes to training a Convoluted Neural Network.\n",
    "\n",
    "However I have decided to keep the dates of fire instances included for future work when this obstacle is overcome. The corresponding issues of training a CNN model with non historical satellite images for the day of recorded fire instances will be addressed in the attached ReadMe. Also what this means for model interpretability will also be addressed."
   ]
  },
  {
   "cell_type": "code",
   "execution_count": 20,
   "metadata": {},
   "outputs": [],
   "source": [
    "df_fire_final= final_wf_df[['date','lat','lon']] "
   ]
  },
  {
   "cell_type": "code",
   "execution_count": null,
   "metadata": {},
   "outputs": [],
   "source": [
    "df"
   ]
  },
  {
   "cell_type": "code",
   "execution_count": 22,
   "metadata": {},
   "outputs": [],
   "source": [
    "#The data for our columns must be converted to strings for when we go to query our api.\n",
    "# our center column is created that creates a combined latitude, longitude tuple.\n",
    "\n",
    "df_fire_final['date'] = df_fire_final['date'].astype(str) \n",
    "df_fire_final['lon'] = df_fire_final['lon'].astype(str) \n",
    "df_fire_final['lat'] = df_fire_final['lat'].astype(str)\n",
    "df_fire_final['center']= df_fire_final[['lat','lon']].agg(','.join, axis = 1)"
   ]
  },
  {
   "cell_type": "code",
   "execution_count": 23,
   "metadata": {},
   "outputs": [
    {
     "data": {
      "text/html": [
       "<div>\n",
       "<style scoped>\n",
       "    .dataframe tbody tr th:only-of-type {\n",
       "        vertical-align: middle;\n",
       "    }\n",
       "\n",
       "    .dataframe tbody tr th {\n",
       "        vertical-align: top;\n",
       "    }\n",
       "\n",
       "    .dataframe thead th {\n",
       "        text-align: right;\n",
       "    }\n",
       "</style>\n",
       "<table border=\"1\" class=\"dataframe\">\n",
       "  <thead>\n",
       "    <tr style=\"text-align: right;\">\n",
       "      <th></th>\n",
       "      <th>date</th>\n",
       "      <th>lat</th>\n",
       "      <th>lon</th>\n",
       "      <th>center</th>\n",
       "    </tr>\n",
       "  </thead>\n",
       "  <tbody>\n",
       "    <tr>\n",
       "      <th>383</th>\n",
       "      <td>2015-01-07</td>\n",
       "      <td>38.8901</td>\n",
       "      <td>-122.9681</td>\n",
       "      <td>38.8901,-122.9681</td>\n",
       "    </tr>\n",
       "    <tr>\n",
       "      <th>384</th>\n",
       "      <td>2015-01-07</td>\n",
       "      <td>38.8884</td>\n",
       "      <td>-122.9837</td>\n",
       "      <td>38.8884,-122.9837</td>\n",
       "    </tr>\n",
       "    <tr>\n",
       "      <th>851</th>\n",
       "      <td>2015-01-12</td>\n",
       "      <td>39.1576</td>\n",
       "      <td>-120.6349</td>\n",
       "      <td>39.1576,-120.6349</td>\n",
       "    </tr>\n",
       "    <tr>\n",
       "      <th>909</th>\n",
       "      <td>2015-01-13</td>\n",
       "      <td>39.9387</td>\n",
       "      <td>-120.7503</td>\n",
       "      <td>39.9387,-120.7503</td>\n",
       "    </tr>\n",
       "    <tr>\n",
       "      <th>911</th>\n",
       "      <td>2015-01-13</td>\n",
       "      <td>39.934</td>\n",
       "      <td>-120.7438</td>\n",
       "      <td>39.934,-120.7438</td>\n",
       "    </tr>\n",
       "  </tbody>\n",
       "</table>\n",
       "</div>"
      ],
      "text/plain": [
       "           date      lat        lon             center\n",
       "383  2015-01-07  38.8901  -122.9681  38.8901,-122.9681\n",
       "384  2015-01-07  38.8884  -122.9837  38.8884,-122.9837\n",
       "851  2015-01-12  39.1576  -120.6349  39.1576,-120.6349\n",
       "909  2015-01-13  39.9387  -120.7503  39.9387,-120.7503\n",
       "911  2015-01-13   39.934  -120.7438   39.934,-120.7438"
      ]
     },
     "execution_count": 23,
     "metadata": {},
     "output_type": "execute_result"
    }
   ],
   "source": [
    "df_fire_final.head()"
   ]
  },
  {
   "cell_type": "code",
   "execution_count": 24,
   "metadata": {},
   "outputs": [
    {
     "data": {
      "text/plain": [
       "date      object\n",
       "lat       object\n",
       "lon       object\n",
       "center    object\n",
       "dtype: object"
      ]
     },
     "execution_count": 24,
     "metadata": {},
     "output_type": "execute_result"
    }
   ],
   "source": [
    "df_fire_final.dtypes\n"
   ]
  },
  {
   "cell_type": "markdown",
   "metadata": {},
   "source": [
    "## Getting the satelitte imagery\n",
    "We now have all the fire instances we need to get all the images we need when we query nasa's LandSAT api."
   ]
  },
  {
   "cell_type": "markdown",
   "metadata": {},
   "source": [
    "## URL for the API:\n",
    "example api \n",
    "https://api.nasa.gov/planetary/earth/imagery?lon=100.75&lat=1.5&date=2014-02-01&api_key=DEMO_KEY"
   ]
  },
  {
   "cell_type": "code",
   "execution_count": 25,
   "metadata": {},
   "outputs": [
    {
     "data": {
      "text/plain": [
       "'..\\\\images\\\\fire_images'"
      ]
     },
     "execution_count": 25,
     "metadata": {},
     "output_type": "execute_result"
    }
   ],
   "source": [
    "import os\n",
    "os.path.join(os.path.pardir,'images','fire_images',) #file path to store our \"fire\" images"
   ]
  },
  {
   "cell_type": "markdown",
   "metadata": {},
   "source": [
    "## Setting up download request"
   ]
  },
  {
   "cell_type": "code",
   "execution_count": 26,
   "metadata": {},
   "outputs": [],
   "source": [
    "img_size = '350x350' # \n",
    "\n",
    "img_format = 'jpg' #\n",
    "\n",
    "map_scale = '1' # For scale parameter. \n",
    "\n",
    "maptype = 'satellite' #\n",
    "\n",
    "zoom = '15' "
   ]
  },
  {
   "cell_type": "code",
   "execution_count": 27,
   "metadata": {},
   "outputs": [],
   "source": [
    "key = open('../google_api/google_key.txt', 'r').read()"
   ]
  },
  {
   "cell_type": "code",
   "execution_count": 29,
   "metadata": {},
   "outputs": [],
   "source": [
    "a = 'https://maps.googleapis.com/maps/api/staticmap?' # Base\n",
    "b = 'center=' # Center \n",
    "# Enter Center\n",
    "c = '&zoom=' # Zoom\n",
    "# Enter Zoom\n",
    "d = '&maptype=satellite' # Map type \n",
    "# No need to enter maptype - just keep satellite default\n",
    "e = '&size=' # Image Size\n",
    "# Enter image size\n",
    "f = '&key='\n",
    "# Enter key\n",
    "\n",
    "# Creating the URL:\n",
    "url1 = a + b\n",
    "url2 = c + zoom + d + e + img_size + f + key\n",
    "# URL = url1 + row['center'] + url2"
   ]
  },
  {
   "cell_type": "code",
   "execution_count": null,
   "metadata": {},
   "outputs": [],
   "source": []
  },
  {
   "cell_type": "code",
   "execution_count": 53,
   "metadata": {},
   "outputs": [
    {
     "data": {
      "text/plain": [
       "10412"
      ]
     },
     "execution_count": 53,
     "metadata": {},
     "output_type": "execute_result"
    }
   ],
   "source": []
  },
  {
   "cell_type": "markdown",
   "metadata": {},
   "source": [
    "\n",
    "for index, row in df_fire_initial.iterrows():\n",
    "    url = url1 + row['center'] + url2\n",
    "    r = requests.get(url)\n",
    "    display(Image(r.content))"
   ]
  },
  {
   "cell_type": "code",
   "execution_count": 54,
   "metadata": {},
   "outputs": [],
   "source": [
    "i = 0 \n",
    "with tqdm(total=df_fire_initial.shape[0]) as pbar:\n",
    "\n",
    "for index, row in df_fire_final.iterrows():\n",
    "    url= url1 + row['center'] + url2\n",
    "        urllib.request.urlretrieve(url, os.path.join(os.path.pardir,'images','fire_images',)\\\n",
    "                                    + row['center']\n",
    "                                    +'.jpg')\n",
    "           "
   ]
  },
  {
   "cell_type": "code",
   "execution_count": 55,
   "metadata": {},
   "outputs": [],
   "source": []
  },
  {
   "cell_type": "markdown",
   "metadata": {},
   "source": [
    "## Retrieving Non-fire images\n",
    "\n",
    "this is going to be a function that iterates over the same area, and pulls out non fire classes."
   ]
  },
  {
   "cell_type": "code",
   "execution_count": 32,
   "metadata": {},
   "outputs": [
    {
     "data": {
      "text/html": [
       "<div>\n",
       "<style scoped>\n",
       "    .dataframe tbody tr th:only-of-type {\n",
       "        vertical-align: middle;\n",
       "    }\n",
       "\n",
       "    .dataframe tbody tr th {\n",
       "        vertical-align: top;\n",
       "    }\n",
       "\n",
       "    .dataframe thead th {\n",
       "        text-align: right;\n",
       "    }\n",
       "</style>\n",
       "<table border=\"1\" class=\"dataframe\">\n",
       "  <thead>\n",
       "    <tr style=\"text-align: right;\">\n",
       "      <th></th>\n",
       "      <th>lat</th>\n",
       "      <th>lon</th>\n",
       "      <th>center</th>\n",
       "    </tr>\n",
       "  </thead>\n",
       "  <tbody>\n",
       "    <tr>\n",
       "      <th>0</th>\n",
       "      <td>40.555219735444794</td>\n",
       "      <td>-121.93623336864476</td>\n",
       "      <td>40.555219735444794,-121.93623336864476</td>\n",
       "    </tr>\n",
       "    <tr>\n",
       "      <th>1</th>\n",
       "      <td>40.63811472487213</td>\n",
       "      <td>-122.62218529818566</td>\n",
       "      <td>40.63811472487213,-122.62218529818566</td>\n",
       "    </tr>\n",
       "    <tr>\n",
       "      <th>2</th>\n",
       "      <td>38.56019468937007</td>\n",
       "      <td>-122.57093586674398</td>\n",
       "      <td>38.56019468937007,-122.57093586674398</td>\n",
       "    </tr>\n",
       "    <tr>\n",
       "      <th>3</th>\n",
       "      <td>39.41894868181624</td>\n",
       "      <td>-121.54084712032751</td>\n",
       "      <td>39.41894868181624,-121.54084712032751</td>\n",
       "    </tr>\n",
       "    <tr>\n",
       "      <th>4</th>\n",
       "      <td>38.31709415047218</td>\n",
       "      <td>-121.5892023549571</td>\n",
       "      <td>38.31709415047218,-121.5892023549571</td>\n",
       "    </tr>\n",
       "  </tbody>\n",
       "</table>\n",
       "</div>"
      ],
      "text/plain": [
       "                  lat                  lon  \\\n",
       "0  40.555219735444794  -121.93623336864476   \n",
       "1   40.63811472487213  -122.62218529818566   \n",
       "2   38.56019468937007  -122.57093586674398   \n",
       "3   39.41894868181624  -121.54084712032751   \n",
       "4   38.31709415047218   -121.5892023549571   \n",
       "\n",
       "                                   center  \n",
       "0  40.555219735444794,-121.93623336864476  \n",
       "1   40.63811472487213,-122.62218529818566  \n",
       "2   38.56019468937007,-122.57093586674398  \n",
       "3   39.41894868181624,-121.54084712032751  \n",
       "4    38.31709415047218,-121.5892023549571  "
      ]
     },
     "execution_count": 32,
     "metadata": {},
     "output_type": "execute_result"
    }
   ],
   "source": [
    "non_fire_size= 10000\n",
    "\n",
    "df_fire_final['lat'] = df_fire_final.lat.astype(float) #to get randomized lats and lons we need to convert back to floats\n",
    "df_fire_final['lon'] = df_fire_final.lon.astype(float)\n",
    "\n",
    "new_lat = np.random.uniform(low= min(df_fire_final.lat),\n",
    "                            high = max(df_fire_final.lat),  #randomizing our new coordinated between the square area we\n",
    "                            size= (non_fire_size,))         # retrieved the wildfire images from\n",
    "\n",
    "new_lon = np.random.uniform(low = min(df_fire_final.lon),\n",
    "                            high = max(df_fire_final.lon),\n",
    "                            size=(non_fire_size,))\n",
    "\n",
    "new_coordinates= {'lat':new_lat,'lon':new_lon}\n",
    "\n",
    "df_non_fire = pd.DataFrame(data = new_coordinates)\n",
    "\n",
    "\n",
    "df_non_fire['lat'] = df_non_fire['lat'].astype(str)  #converting our new coordinates to string so we can use them when we call\n",
    "df_non_fire['lon'] = df_non_fire['lon'].astype(str)  # on our API\n",
    "df_non_fire['center'] = df_non_fire[['lat', 'lon']].agg(','.join, axis = 1) #column containing tuple of generated latitude and longitude\n",
    "\n",
    "\n",
    "\n",
    "df_fire_final['lat'] = df_fire_final.lat.astype(str)\n",
    "df_fire_final['lon'] = df_fire_final.lon.astype(str)\n",
    "\n",
    "df_non_fire.head()\n",
    "\n"
   ]
  },
  {
   "cell_type": "code",
   "execution_count": 33,
   "metadata": {},
   "outputs": [
    {
     "data": {
      "text/plain": [
       "'..\\\\images\\\\non_fire'"
      ]
     },
     "execution_count": 33,
     "metadata": {},
     "output_type": "execute_result"
    }
   ],
   "source": [
    "os.path.join(os.path.pardir,'images','non_fire',)"
   ]
  },
  {
   "cell_type": "code",
   "execution_count": null,
   "metadata": {},
   "outputs": [],
   "source": [
    "#i = 0 \n",
    "with tqdm(total=df_non_fire.shape[0]) as pbar:\n",
    "\n",
    "    for index, row in df_non_fire.iterrows():\n",
    "        url= url1 + row['center'] + url2\n",
    "        urllib.request.urlretrieve(url, os.path.join(os.path.pardir,'images','non_fire',)\\\n",
    "                                    + row['center']\n",
    "                                    +'.jpg')\n",
    "            \n",
    "        pbar.update(1)\n",
    "            "
   ]
  },
  {
   "cell_type": "code",
   "execution_count": null,
   "metadata": {},
   "outputs": [],
   "source": []
  },
  {
   "cell_type": "code",
   "execution_count": null,
   "metadata": {},
   "outputs": [],
   "source": []
  },
  {
   "cell_type": "code",
   "execution_count": null,
   "metadata": {},
   "outputs": [],
   "source": []
  },
  {
   "cell_type": "code",
   "execution_count": null,
   "metadata": {},
   "outputs": [],
   "source": []
  }
 ],
 "metadata": {
  "kernelspec": {
   "display_name": "Python 3",
   "language": "python",
   "name": "python3"
  },
  "language_info": {
   "codemirror_mode": {
    "name": "ipython",
    "version": 3
   },
   "file_extension": ".py",
   "mimetype": "text/x-python",
   "name": "python",
   "nbconvert_exporter": "python",
   "pygments_lexer": "ipython3",
   "version": "3.8.3"
  }
 },
 "nbformat": 4,
 "nbformat_minor": 4
}
