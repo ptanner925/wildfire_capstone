{
 "cells": [
  {
   "cell_type": "markdown",
   "metadata": {},
   "source": [
    "# Initial Satelitte Data retrieval\n",
    "\n",
    "The following dataset was gathered from [NASA FIRMs website](https://firms.modaps.eosdis.nasa.gov/download/) and encases all fire anomalies between 2015 and 2019 in Northern California. The initial data cleaning that follows will narrow down the scope of our search to Northern California using the proper longitute and latitude ranges comprising a square area of approximately 80,000 km^2. All anomalies contained in the final dataframe should be over land, and also with a confidence rating of over 75%. This confidence rating is a measurement of how sure that the satellite succesfully detected a fire anomaly. It should be noted that not all fire anomalies equate to wildfires.\n",
    "\n",
    "The resulting dataframe we will use to query our Google API to retrieve satellite images that have experienced fires over the last 5 years. We will then try to use these images to build a CNN that is able to determine the probability that an area has experience a wildfire, and thus when fed a test image is able to determine a probability that this area will also experience a wildfire event."
   ]
  },
  {
   "cell_type": "markdown",
   "metadata": {},
   "source": [
    "# Importing Neccesary Libraries and Packages\n"
   ]
  },
  {
   "cell_type": "code",
   "execution_count": 1,
   "metadata": {},
   "outputs": [],
   "source": [
    "import pandas as pd\n",
    "import numpy as np\n",
    "\n",
    "import seaborn as sns\n",
    "import matplotlib.pyplot as plt\n",
    "%matplotlib inline\n",
    "\n",
    "import requests\n",
    "import random\n",
    "\n",
    "import urllib.request\n",
    "import warnings\n",
    "warnings.filterwarnings('ignore')\n",
    "\n",
    "from tqdm import tqdm\n",
    "import os"
   ]
  },
  {
   "cell_type": "markdown",
   "metadata": {},
   "source": [
    "The following csv's were downloaded from https://firms.modaps.eosdis.nasa.gov/country/. This archive contains archives of all fire anomalies recorded by the Modis intsrument satellites over the entire earth. To get each relevant dataset I merely selected the year, and the country, the United States, in which our target area (Northern California) was located. Thus each dataset you see below contains all the fire anomalies recorded over the US for each labeled year."
   ]
  },
  {
   "cell_type": "code",
   "execution_count": 2,
   "metadata": {},
   "outputs": [],
   "source": [
    "df_2015 = pd.read_csv('../data/modis_2015_United_States.csv')\n",
    "df_2016 = pd.read_csv('../data/modis_2016_United_States.csv')\n",
    "df_2017 = pd.read_csv('../data/modis_2017_United_States.csv')\n",
    "df_2018 = pd.read_csv('../data/modis_2018_United_States.csv')\n",
    "df_2019 = pd.read_csv('../data/modis_2019_United_States.csv')"
   ]
  },
  {
   "cell_type": "markdown",
   "metadata": {},
   "source": [
    "Let's condense all of our dataframes into a single one so we can perform the proper masks in 2 or 3 fell strokes to get the data of our target area."
   ]
  },
  {
   "cell_type": "code",
   "execution_count": 3,
   "metadata": {},
   "outputs": [],
   "source": [
    "frames = [df_2015, df_2016, df_2017, df_2018, df_2019]\n",
    "pre_final = pd.concat(frames)"
   ]
  },
  {
   "cell_type": "code",
   "execution_count": 4,
   "metadata": {},
   "outputs": [
    {
     "data": {
      "text/plain": [
       "(643545, 15)"
      ]
     },
     "execution_count": 4,
     "metadata": {},
     "output_type": "execute_result"
    }
   ],
   "source": [
    "pre_final.shape"
   ]
  },
  {
   "cell_type": "code",
   "execution_count": 5,
   "metadata": {},
   "outputs": [
    {
     "data": {
      "text/html": [
       "<div>\n",
       "<style scoped>\n",
       "    .dataframe tbody tr th:only-of-type {\n",
       "        vertical-align: middle;\n",
       "    }\n",
       "\n",
       "    .dataframe tbody tr th {\n",
       "        vertical-align: top;\n",
       "    }\n",
       "\n",
       "    .dataframe thead th {\n",
       "        text-align: right;\n",
       "    }\n",
       "</style>\n",
       "<table border=\"1\" class=\"dataframe\">\n",
       "  <thead>\n",
       "    <tr style=\"text-align: right;\">\n",
       "      <th></th>\n",
       "      <th>latitude</th>\n",
       "      <th>longitude</th>\n",
       "      <th>brightness</th>\n",
       "      <th>scan</th>\n",
       "      <th>track</th>\n",
       "      <th>acq_date</th>\n",
       "      <th>acq_time</th>\n",
       "      <th>satellite</th>\n",
       "      <th>instrument</th>\n",
       "      <th>confidence</th>\n",
       "      <th>version</th>\n",
       "      <th>bright_t31</th>\n",
       "      <th>frp</th>\n",
       "      <th>daynight</th>\n",
       "      <th>type</th>\n",
       "    </tr>\n",
       "  </thead>\n",
       "  <tbody>\n",
       "    <tr>\n",
       "      <th>0</th>\n",
       "      <td>19.4104</td>\n",
       "      <td>-155.2771</td>\n",
       "      <td>306.4</td>\n",
       "      <td>1.1</td>\n",
       "      <td>1.1</td>\n",
       "      <td>2015-01-01</td>\n",
       "      <td>830</td>\n",
       "      <td>Terra</td>\n",
       "      <td>MODIS</td>\n",
       "      <td>68</td>\n",
       "      <td>6.2</td>\n",
       "      <td>284.0</td>\n",
       "      <td>12.1</td>\n",
       "      <td>N</td>\n",
       "      <td>2</td>\n",
       "    </tr>\n",
       "    <tr>\n",
       "      <th>1</th>\n",
       "      <td>19.4425</td>\n",
       "      <td>-155.0047</td>\n",
       "      <td>324.1</td>\n",
       "      <td>1.1</td>\n",
       "      <td>1.0</td>\n",
       "      <td>2015-01-01</td>\n",
       "      <td>830</td>\n",
       "      <td>Terra</td>\n",
       "      <td>MODIS</td>\n",
       "      <td>100</td>\n",
       "      <td>6.2</td>\n",
       "      <td>286.0</td>\n",
       "      <td>29.0</td>\n",
       "      <td>N</td>\n",
       "      <td>2</td>\n",
       "    </tr>\n",
       "    <tr>\n",
       "      <th>2</th>\n",
       "      <td>19.4601</td>\n",
       "      <td>-154.9925</td>\n",
       "      <td>313.0</td>\n",
       "      <td>1.1</td>\n",
       "      <td>1.0</td>\n",
       "      <td>2015-01-01</td>\n",
       "      <td>830</td>\n",
       "      <td>Terra</td>\n",
       "      <td>MODIS</td>\n",
       "      <td>86</td>\n",
       "      <td>6.2</td>\n",
       "      <td>288.0</td>\n",
       "      <td>16.7</td>\n",
       "      <td>N</td>\n",
       "      <td>2</td>\n",
       "    </tr>\n",
       "    <tr>\n",
       "      <th>3</th>\n",
       "      <td>19.4087</td>\n",
       "      <td>-155.2876</td>\n",
       "      <td>309.8</td>\n",
       "      <td>1.1</td>\n",
       "      <td>1.1</td>\n",
       "      <td>2015-01-01</td>\n",
       "      <td>830</td>\n",
       "      <td>Terra</td>\n",
       "      <td>MODIS</td>\n",
       "      <td>78</td>\n",
       "      <td>6.2</td>\n",
       "      <td>284.0</td>\n",
       "      <td>14.8</td>\n",
       "      <td>N</td>\n",
       "      <td>2</td>\n",
       "    </tr>\n",
       "    <tr>\n",
       "      <th>4</th>\n",
       "      <td>41.6333</td>\n",
       "      <td>-87.1361</td>\n",
       "      <td>301.0</td>\n",
       "      <td>1.9</td>\n",
       "      <td>1.3</td>\n",
       "      <td>2015-01-01</td>\n",
       "      <td>1717</td>\n",
       "      <td>Terra</td>\n",
       "      <td>MODIS</td>\n",
       "      <td>33</td>\n",
       "      <td>6.2</td>\n",
       "      <td>270.7</td>\n",
       "      <td>22.7</td>\n",
       "      <td>D</td>\n",
       "      <td>2</td>\n",
       "    </tr>\n",
       "  </tbody>\n",
       "</table>\n",
       "</div>"
      ],
      "text/plain": [
       "   latitude  longitude  brightness  scan  track    acq_date  acq_time  \\\n",
       "0   19.4104  -155.2771       306.4   1.1    1.1  2015-01-01       830   \n",
       "1   19.4425  -155.0047       324.1   1.1    1.0  2015-01-01       830   \n",
       "2   19.4601  -154.9925       313.0   1.1    1.0  2015-01-01       830   \n",
       "3   19.4087  -155.2876       309.8   1.1    1.1  2015-01-01       830   \n",
       "4   41.6333   -87.1361       301.0   1.9    1.3  2015-01-01      1717   \n",
       "\n",
       "  satellite instrument  confidence  version  bright_t31   frp daynight  type  \n",
       "0     Terra      MODIS          68      6.2       284.0  12.1        N     2  \n",
       "1     Terra      MODIS         100      6.2       286.0  29.0        N     2  \n",
       "2     Terra      MODIS          86      6.2       288.0  16.7        N     2  \n",
       "3     Terra      MODIS          78      6.2       284.0  14.8        N     2  \n",
       "4     Terra      MODIS          33      6.2       270.7  22.7        D     2  "
      ]
     },
     "execution_count": 5,
     "metadata": {},
     "output_type": "execute_result"
    }
   ],
   "source": [
    "pre_final.head()"
   ]
  },
  {
   "cell_type": "markdown",
   "metadata": {},
   "source": [
    "## Data Filtering"
   ]
  },
  {
   "cell_type": "code",
   "execution_count": 6,
   "metadata": {},
   "outputs": [],
   "source": [
    "#mask to limit our dataset to latitudes between 38.0881 and 40.8366\n",
    "\n",
    "pre_final_2 = pre_final[(pre_final['latitude'] >= 38.0881) & (pre_final['latitude'] <= 40.8336)] "
   ]
  },
  {
   "cell_type": "code",
   "execution_count": 7,
   "metadata": {},
   "outputs": [],
   "source": [
    "#mask to limit our dataset to longitudes between -123.1208 & -120.2933\n",
    "pre_final_3 = pre_final_2[(pre_final_2['longitude'] >= -123.1208) & (pre_final_2['longitude'] <= -120.2933)]"
   ]
  },
  {
   "cell_type": "code",
   "execution_count": 10,
   "metadata": {},
   "outputs": [],
   "source": [
    "#mask to only give us fire instances with a given confidence level from the Satellite of 75%\n",
    "final_wf_df = pre_final_3[(pre_final_3['confidence'] >= 75)]"
   ]
  },
  {
   "cell_type": "code",
   "execution_count": 11,
   "metadata": {},
   "outputs": [
    {
     "data": {
      "text/plain": [
       "(10896, 15)"
      ]
     },
     "execution_count": 11,
     "metadata": {},
     "output_type": "execute_result"
    }
   ],
   "source": [
    "final_wf_df.shape\n"
   ]
  },
  {
   "cell_type": "code",
   "execution_count": null,
   "metadata": {},
   "outputs": [],
   "source": [
    "final_wf"
   ]
  }
 ],
 "metadata": {
  "kernelspec": {
   "display_name": "Python 3",
   "language": "python",
   "name": "python3"
  },
  "language_info": {
   "codemirror_mode": {
    "name": "ipython",
    "version": 3
   },
   "file_extension": ".py",
   "mimetype": "text/x-python",
   "name": "python",
   "nbconvert_exporter": "python",
   "pygments_lexer": "ipython3",
   "version": "3.8.3"
  }
 },
 "nbformat": 4,
 "nbformat_minor": 4
}
