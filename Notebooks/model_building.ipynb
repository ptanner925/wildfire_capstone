{
 "cells": [
  {
   "cell_type": "code",
   "execution_count": 1,
   "metadata": {},
   "outputs": [],
   "source": [
    "import os"
   ]
  },
  {
   "cell_type": "code",
   "execution_count": 2,
   "metadata": {},
   "outputs": [],
   "source": [
    "import numpy as np\n",
    "import pandas as pd\n"
   ]
  },
  {
   "cell_type": "code",
   "execution_count": 4,
   "metadata": {},
   "outputs": [],
   "source": [
    "def get_img_paths(base_dir, ignore_filetypes=['.txt', '.cpp', '.gif']):\n",
    "    \"\"\"\n",
    "    Inputs:\n",
    "        base_dir (string/ os.path type) relative path to the directory with folders containing images\n",
    "        *kwargs\n",
    "        ignore_filetypes (list of strings) filetypes to exclude from output\n",
    "        type_foldes (dictionary) folders that identify different filetypes and add identifiers to add to output\n",
    "    Returns:\n",
    "        paths (list of tuples) relative paths to files with identifiers\n",
    "    \"\"\"\n",
    "    absent_paths = []\n",
    "    present_paths = []\n",
    "    for root, dirs, files in os.walk(base_dir):\n",
    "        #not removing undesired files\n",
    "#         # remove undesired files\n",
    "#         for file in files:\n",
    "#             for file_type in ignore_filetypes:\n",
    "#                 if file_type == file[-4:]:\n",
    "#                     files.remove(file)\n",
    "        if files:\n",
    "            for file in files:\n",
    "                full_path = os.path.join(root, file)\n",
    "                if 'non_fire' in full_path:\n",
    "                    absent_paths.append((full_path, 0))\n",
    "                elif 'fire_images' in full_path:\n",
    "                    present_paths.append((full_path, 1))\n",
    "    #         if type_folders:\n",
    "    #             for key, value in type_folders.items():\n",
    "    #                 if key in root:\n",
    "    #         print('root: ', root)\n",
    "    #         print('files: ', files[:5], len(files))\n",
    "    #         print('paths: ', paths)\n",
    "#     absent_paths.extend(present_paths)\n",
    "    return absent_paths, present_paths"
   ]
  },
  {
   "cell_type": "code",
   "execution_count": 6,
   "metadata": {},
   "outputs": [],
   "source": [
    "non_fire_class, fire_class = get_img_paths(\"../images/\") #pulling in images from their respective directories "
   ]
  },
  {
   "cell_type": "code",
   "execution_count": 7,
   "metadata": {},
   "outputs": [
    {
     "data": {
      "text/plain": [
       "('../images/non_fire\\\\non_fire38.089083323110636,-120.80338572050151.jpg', 0)"
      ]
     },
     "execution_count": 7,
     "metadata": {},
     "output_type": "execute_result"
    }
   ],
   "source": [
    "non_fire_class[5]"
   ]
  },
  {
   "cell_type": "code",
   "execution_count": 8,
   "metadata": {},
   "outputs": [
    {
     "data": {
      "text/plain": [
       "[('../images/non_fire\\\\non_fire38.08830905499338,-123.06571001901612.jpg', 0),\n",
       " ('../images/non_fire\\\\non_fire38.08832221848103,-122.27977628378312.jpg', 0),\n",
       " ('../images/non_fire\\\\non_fire38.08880101395275,-120.54338398199761.jpg', 0),\n",
       " ('../images/non_fire\\\\non_fire38.08880691854689,-122.20526859158392.jpg', 0),\n",
       " ('../images/non_fire\\\\non_fire38.089028128438265,-120.9417076927711.jpg', 0)]"
      ]
     },
     "execution_count": 8,
     "metadata": {},
     "output_type": "execute_result"
    }
   ],
   "source": [
    "non_fire_class[:5]"
   ]
  },
  {
   "cell_type": "code",
   "execution_count": 9,
   "metadata": {},
   "outputs": [
    {
     "data": {
      "text/plain": [
       "[('../images/fire_images\\\\fire_images-122.125238.95852016-02-12.jpg', 1),\n",
       " ('../images/fire_images\\\\fire_images-122.968740.53132016-02-11.jpg', 1),\n",
       " ('../images/fire_images\\\\fire_images-122.984740.52972016-02-11.jpg', 1),\n",
       " ('../images/fire_images\\\\fire_images-123.00740.52572016-02-12.jpg', 1),\n",
       " ('../images/fire_images\\\\fire_images38.0884,-120.8275.jpg', 1)]"
      ]
     },
     "execution_count": 9,
     "metadata": {},
     "output_type": "execute_result"
    }
   ],
   "source": [
    "fire_class[:5]"
   ]
  },
  {
   "cell_type": "code",
   "execution_count": null,
   "metadata": {},
   "outputs": [],
   "source": [
    "images = pd.concat()"
   ]
  }
 ],
 "metadata": {
  "kernelspec": {
   "display_name": "Python 3",
   "language": "python",
   "name": "python3"
  },
  "language_info": {
   "codemirror_mode": {
    "name": "ipython",
    "version": 3
   },
   "file_extension": ".py",
   "mimetype": "text/x-python",
   "name": "python",
   "nbconvert_exporter": "python",
   "pygments_lexer": "ipython3",
   "version": "3.8.3"
  }
 },
 "nbformat": 4,
 "nbformat_minor": 4
}
